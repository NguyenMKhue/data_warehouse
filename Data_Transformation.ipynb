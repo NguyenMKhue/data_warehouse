{
 "cells": [
  {
   "cell_type": "code",
   "execution_count": 75,
   "metadata": {},
   "outputs": [],
   "source": [
    "import pandas as pd\n",
    "import matplotlib.pyplot as plt\n",
    "import os"
   ]
  },
  {
   "cell_type": "markdown",
   "metadata": {},
   "source": [
    "*Importing the tables*"
   ]
  },
  {
   "cell_type": "code",
   "execution_count": 76,
   "metadata": {},
   "outputs": [],
   "source": [
    "Address = pd.read_csv('/Users/khuenguyen/Desktop/data_warehouse/tables/Address.csv')\n",
    "CountryRegion = pd.read_csv('/Users/khuenguyen/Desktop/data_warehouse/tables/CountryRegion.csv')\n",
    "Product = pd.read_csv('/Users/khuenguyen/Desktop/data_warehouse/tables/Product.csv')\n",
    "ProductSubcategory = pd.read_csv('/Users/khuenguyen/Desktop/data_warehouse/tables/ProductSubcategory.csv')\n",
    "SalesOrderDetail = pd.read_csv('/Users/khuenguyen/Desktop/data_warehouse/tables/SalesOrderDetail.csv')\n",
    "SalesOrderHeader = pd.read_csv('/Users/khuenguyen/Desktop/data_warehouse/tables/SalesOrderHeader.csv')\n",
    "StateProvince = pd.read_csv('/Users/khuenguyen/Desktop/data_warehouse/tables/StateProvince.csv')\n",
    "ProductCategory = pd.read_csv('/Users/khuenguyen/Desktop/data_warehouse/tables/ProductCategory.csv')\n",
    "ProductUnitPrice = pd.read_csv('/Users/khuenguyen/Desktop/data_warehouse/tables/Product_UnitPrice.csv')"
   ]
  },
  {
   "cell_type": "code",
   "execution_count": 77,
   "metadata": {},
   "outputs": [
    {
     "name": "stdout",
     "output_type": "stream",
     "text": [
      "/Users/khuenguyen/Desktop/data_warehouse/transformed_tables\n"
     ]
    }
   ],
   "source": [
    "current_directory = os.getcwd()\n",
    "output_folder_path = os.path.join(current_directory, \"transformed_tables\")\n",
    "if not os.path.exists(output_folder_path):\n",
    "    os.makedirs(output_folder_path)\n",
    "print(output_folder_path)"
   ]
  },
  {
   "cell_type": "markdown",
   "metadata": {},
   "source": [
    "**1. Address**"
   ]
  },
  {
   "cell_type": "code",
   "execution_count": 78,
   "metadata": {},
   "outputs": [
    {
     "name": "stdout",
     "output_type": "stream",
     "text": [
      "<class 'pandas.core.frame.DataFrame'>\n",
      "RangeIndex: 19614 entries, 0 to 19613\n",
      "Data columns (total 9 columns):\n",
      " #   Column           Non-Null Count  Dtype \n",
      "---  ------           --------------  ----- \n",
      " 0   AddressID        19614 non-null  int64 \n",
      " 1   AddressLine1     19614 non-null  object\n",
      " 2   AddressLine2     362 non-null    object\n",
      " 3   City             19614 non-null  object\n",
      " 4   StateProvinceID  19614 non-null  int64 \n",
      " 5   PostalCode       19614 non-null  object\n",
      " 6   SpatialLocation  19614 non-null  object\n",
      " 7   rowguid          19614 non-null  object\n",
      " 8   ModifiedDate     19614 non-null  object\n",
      "dtypes: int64(2), object(7)\n",
      "memory usage: 1.3+ MB\n"
     ]
    }
   ],
   "source": [
    "Address.info()"
   ]
  },
  {
   "cell_type": "markdown",
   "metadata": {},
   "source": [
    "Remove unecessary columns"
   ]
  },
  {
   "cell_type": "code",
   "execution_count": 79,
   "metadata": {},
   "outputs": [],
   "source": [
    "Address = Address.drop(columns=['SpatialLocation','rowguid','ModifiedDate'])"
   ]
  },
  {
   "cell_type": "code",
   "execution_count": 80,
   "metadata": {},
   "outputs": [],
   "source": [
    "object_columns = Address.select_dtypes(include='object').columns\n",
    "numeric_columns = Address.select_dtypes(include='int64').columns"
   ]
  },
  {
   "cell_type": "markdown",
   "metadata": {},
   "source": [
    "Check duplicated values"
   ]
  },
  {
   "cell_type": "code",
   "execution_count": 81,
   "metadata": {},
   "outputs": [
    {
     "name": "stdout",
     "output_type": "stream",
     "text": [
      "0\n"
     ]
    }
   ],
   "source": [
    "print(Address.duplicated().sum())"
   ]
  },
  {
   "cell_type": "markdown",
   "metadata": {},
   "source": [
    "Check null values"
   ]
  },
  {
   "cell_type": "code",
   "execution_count": 82,
   "metadata": {},
   "outputs": [
    {
     "data": {
      "text/plain": [
       "AddressID              0\n",
       "AddressLine1           0\n",
       "AddressLine2       19252\n",
       "City                   0\n",
       "StateProvinceID        0\n",
       "PostalCode             0\n",
       "dtype: int64"
      ]
     },
     "execution_count": 82,
     "metadata": {},
     "output_type": "execute_result"
    }
   ],
   "source": [
    "Address.isnull().sum()"
   ]
  },
  {
   "cell_type": "markdown",
   "metadata": {},
   "source": [
    "Because \"AddressLine2\" is just a complement address used to support \"AddressLine1\" (apartment number, block number, etc.), we can accept null value in this column"
   ]
  },
  {
   "cell_type": "code",
   "execution_count": 83,
   "metadata": {},
   "outputs": [
    {
     "name": "stdout",
     "output_type": "stream",
     "text": [
      "<class 'pandas.core.frame.DataFrame'>\n",
      "RangeIndex: 19614 entries, 0 to 19613\n",
      "Data columns (total 6 columns):\n",
      " #   Column           Non-Null Count  Dtype \n",
      "---  ------           --------------  ----- \n",
      " 0   AddressID        19614 non-null  int64 \n",
      " 1   AddressLine1     19614 non-null  object\n",
      " 2   AddressLine2     362 non-null    object\n",
      " 3   City             19614 non-null  object\n",
      " 4   StateProvinceID  19614 non-null  int64 \n",
      " 5   PostalCode       19614 non-null  object\n",
      "dtypes: int64(2), object(4)\n",
      "memory usage: 919.5+ KB\n"
     ]
    }
   ],
   "source": [
    "Address.info()"
   ]
  },
  {
   "cell_type": "code",
   "execution_count": 84,
   "metadata": {},
   "outputs": [
    {
     "data": {
      "text/html": [
       "<div>\n",
       "<style scoped>\n",
       "    .dataframe tbody tr th:only-of-type {\n",
       "        vertical-align: middle;\n",
       "    }\n",
       "\n",
       "    .dataframe tbody tr th {\n",
       "        vertical-align: top;\n",
       "    }\n",
       "\n",
       "    .dataframe thead th {\n",
       "        text-align: right;\n",
       "    }\n",
       "</style>\n",
       "<table border=\"1\" class=\"dataframe\">\n",
       "  <thead>\n",
       "    <tr style=\"text-align: right;\">\n",
       "      <th></th>\n",
       "      <th>AddressLine1</th>\n",
       "      <th>AddressLine2</th>\n",
       "      <th>City</th>\n",
       "      <th>PostalCode</th>\n",
       "    </tr>\n",
       "  </thead>\n",
       "  <tbody>\n",
       "    <tr>\n",
       "      <th>count</th>\n",
       "      <td>19614</td>\n",
       "      <td>362</td>\n",
       "      <td>19614</td>\n",
       "      <td>19614</td>\n",
       "    </tr>\n",
       "    <tr>\n",
       "      <th>unique</th>\n",
       "      <td>13572</td>\n",
       "      <td>195</td>\n",
       "      <td>575</td>\n",
       "      <td>661</td>\n",
       "    </tr>\n",
       "    <tr>\n",
       "      <th>top</th>\n",
       "      <td>Attaché de Presse</td>\n",
       "      <td>Verkaufsabteilung</td>\n",
       "      <td>London</td>\n",
       "      <td>98168</td>\n",
       "    </tr>\n",
       "    <tr>\n",
       "      <th>freq</th>\n",
       "      <td>17</td>\n",
       "      <td>35</td>\n",
       "      <td>434</td>\n",
       "      <td>215</td>\n",
       "    </tr>\n",
       "  </tbody>\n",
       "</table>\n",
       "</div>"
      ],
      "text/plain": [
       "             AddressLine1       AddressLine2    City PostalCode\n",
       "count               19614                362   19614      19614\n",
       "unique              13572                195     575        661\n",
       "top     Attaché de Presse  Verkaufsabteilung  London      98168\n",
       "freq                   17                 35     434        215"
      ]
     },
     "execution_count": 84,
     "metadata": {},
     "output_type": "execute_result"
    }
   ],
   "source": [
    "Address.describe(include=['object'])"
   ]
  },
  {
   "cell_type": "code",
   "execution_count": 85,
   "metadata": {},
   "outputs": [],
   "source": [
    "Address.to_csv(os.path.join(output_folder_path,'AddressLineDim.csv'),index=False)"
   ]
  },
  {
   "cell_type": "markdown",
   "metadata": {},
   "source": [
    "**2.StateProvice**\n"
   ]
  },
  {
   "cell_type": "code",
   "execution_count": 86,
   "metadata": {},
   "outputs": [
    {
     "name": "stdout",
     "output_type": "stream",
     "text": [
      "<class 'pandas.core.frame.DataFrame'>\n",
      "RangeIndex: 181 entries, 0 to 180\n",
      "Data columns (total 8 columns):\n",
      " #   Column                   Non-Null Count  Dtype \n",
      "---  ------                   --------------  ----- \n",
      " 0   StateProvinceID          181 non-null    int64 \n",
      " 1   StateProvinceCode        181 non-null    object\n",
      " 2   CountryRegionCode        181 non-null    object\n",
      " 3   IsOnlyStateProvinceFlag  181 non-null    int64 \n",
      " 4   Name                     181 non-null    object\n",
      " 5   TerritoryID              181 non-null    int64 \n",
      " 6   rowguid                  181 non-null    object\n",
      " 7   ModifiedDate             181 non-null    object\n",
      "dtypes: int64(3), object(5)\n",
      "memory usage: 11.4+ KB\n"
     ]
    }
   ],
   "source": [
    "StateProvince.info()"
   ]
  },
  {
   "cell_type": "markdown",
   "metadata": {},
   "source": [
    "Remove unwanted columns"
   ]
  },
  {
   "cell_type": "code",
   "execution_count": 87,
   "metadata": {},
   "outputs": [],
   "source": [
    "StateProvince = StateProvince.drop(columns=['IsOnlyStateProvinceFlag','rowguid','ModifiedDate'])"
   ]
  },
  {
   "cell_type": "markdown",
   "metadata": {},
   "source": [
    "Check duplicated"
   ]
  },
  {
   "cell_type": "code",
   "execution_count": 88,
   "metadata": {},
   "outputs": [
    {
     "name": "stdout",
     "output_type": "stream",
     "text": [
      "0\n"
     ]
    }
   ],
   "source": [
    "print(StateProvince.duplicated().sum())"
   ]
  },
  {
   "cell_type": "markdown",
   "metadata": {},
   "source": [
    "Check null values"
   ]
  },
  {
   "cell_type": "code",
   "execution_count": 89,
   "metadata": {},
   "outputs": [
    {
     "data": {
      "text/plain": [
       "StateProvinceID      0\n",
       "StateProvinceCode    0\n",
       "CountryRegionCode    0\n",
       "Name                 0\n",
       "TerritoryID          0\n",
       "dtype: int64"
      ]
     },
     "execution_count": 89,
     "metadata": {},
     "output_type": "execute_result"
    }
   ],
   "source": [
    "StateProvince.isnull().sum()"
   ]
  },
  {
   "cell_type": "markdown",
   "metadata": {},
   "source": [
    "Convert CountryRegionCode into CountryRegionName"
   ]
  },
  {
   "cell_type": "code",
   "execution_count": 90,
   "metadata": {},
   "outputs": [],
   "source": [
    "StateProvince['CountryRegionCode'] = StateProvince['CountryRegionCode'].map(CountryRegion.set_index('CountryRegionCode')['Name'])"
   ]
  },
  {
   "cell_type": "code",
   "execution_count": 91,
   "metadata": {},
   "outputs": [],
   "source": [
    "StateProvince = StateProvince.rename(columns={'CountryRegionCode': 'CountryRegionName'})"
   ]
  },
  {
   "cell_type": "code",
   "execution_count": 92,
   "metadata": {},
   "outputs": [
    {
     "name": "stdout",
     "output_type": "stream",
     "text": [
      "<class 'pandas.core.frame.DataFrame'>\n",
      "RangeIndex: 181 entries, 0 to 180\n",
      "Data columns (total 5 columns):\n",
      " #   Column             Non-Null Count  Dtype \n",
      "---  ------             --------------  ----- \n",
      " 0   StateProvinceID    181 non-null    int64 \n",
      " 1   StateProvinceCode  181 non-null    object\n",
      " 2   CountryRegionName  181 non-null    object\n",
      " 3   Name               181 non-null    object\n",
      " 4   TerritoryID        181 non-null    int64 \n",
      "dtypes: int64(2), object(3)\n",
      "memory usage: 7.2+ KB\n"
     ]
    }
   ],
   "source": [
    "StateProvince.info()"
   ]
  },
  {
   "cell_type": "code",
   "execution_count": 93,
   "metadata": {},
   "outputs": [
    {
     "data": {
      "text/html": [
       "<div>\n",
       "<style scoped>\n",
       "    .dataframe tbody tr th:only-of-type {\n",
       "        vertical-align: middle;\n",
       "    }\n",
       "\n",
       "    .dataframe tbody tr th {\n",
       "        vertical-align: top;\n",
       "    }\n",
       "\n",
       "    .dataframe thead th {\n",
       "        text-align: right;\n",
       "    }\n",
       "</style>\n",
       "<table border=\"1\" class=\"dataframe\">\n",
       "  <thead>\n",
       "    <tr style=\"text-align: right;\">\n",
       "      <th></th>\n",
       "      <th>StateProvinceID</th>\n",
       "      <th>StateProvinceCode</th>\n",
       "      <th>CountryRegionName</th>\n",
       "      <th>Name</th>\n",
       "      <th>TerritoryID</th>\n",
       "    </tr>\n",
       "  </thead>\n",
       "  <tbody>\n",
       "    <tr>\n",
       "      <th>0</th>\n",
       "      <td>1</td>\n",
       "      <td>AB</td>\n",
       "      <td>Canada</td>\n",
       "      <td>Alberta</td>\n",
       "      <td>6</td>\n",
       "    </tr>\n",
       "    <tr>\n",
       "      <th>1</th>\n",
       "      <td>2</td>\n",
       "      <td>AK</td>\n",
       "      <td>United States</td>\n",
       "      <td>Alaska</td>\n",
       "      <td>1</td>\n",
       "    </tr>\n",
       "    <tr>\n",
       "      <th>2</th>\n",
       "      <td>3</td>\n",
       "      <td>AL</td>\n",
       "      <td>United States</td>\n",
       "      <td>Alabama</td>\n",
       "      <td>5</td>\n",
       "    </tr>\n",
       "    <tr>\n",
       "      <th>3</th>\n",
       "      <td>4</td>\n",
       "      <td>AR</td>\n",
       "      <td>United States</td>\n",
       "      <td>Arkansas</td>\n",
       "      <td>3</td>\n",
       "    </tr>\n",
       "    <tr>\n",
       "      <th>4</th>\n",
       "      <td>5</td>\n",
       "      <td>AS</td>\n",
       "      <td>American Samoa</td>\n",
       "      <td>American Samoa</td>\n",
       "      <td>1</td>\n",
       "    </tr>\n",
       "  </tbody>\n",
       "</table>\n",
       "</div>"
      ],
      "text/plain": [
       "   StateProvinceID StateProvinceCode CountryRegionName            Name  \\\n",
       "0                1               AB             Canada         Alberta   \n",
       "1                2               AK      United States          Alaska   \n",
       "2                3               AL      United States         Alabama   \n",
       "3                4               AR      United States        Arkansas   \n",
       "4                5               AS     American Samoa  American Samoa   \n",
       "\n",
       "   TerritoryID  \n",
       "0            6  \n",
       "1            1  \n",
       "2            5  \n",
       "3            3  \n",
       "4            1  "
      ]
     },
     "execution_count": 93,
     "metadata": {},
     "output_type": "execute_result"
    }
   ],
   "source": [
    "StateProvince.head()"
   ]
  },
  {
   "cell_type": "code",
   "execution_count": 94,
   "metadata": {},
   "outputs": [],
   "source": [
    "StateProvince.to_csv(os.path.join(output_folder_path,'StateProvinceDim.csv'),index=False)"
   ]
  },
  {
   "cell_type": "markdown",
   "metadata": {},
   "source": [
    "**3.Product**"
   ]
  },
  {
   "cell_type": "code",
   "execution_count": 95,
   "metadata": {},
   "outputs": [
    {
     "name": "stdout",
     "output_type": "stream",
     "text": [
      "<class 'pandas.core.frame.DataFrame'>\n",
      "RangeIndex: 504 entries, 0 to 503\n",
      "Data columns (total 25 columns):\n",
      " #   Column                 Non-Null Count  Dtype  \n",
      "---  ------                 --------------  -----  \n",
      " 0   ProductID              504 non-null    int64  \n",
      " 1   Name                   504 non-null    object \n",
      " 2   ProductNumber          504 non-null    object \n",
      " 3   MakeFlag               504 non-null    int64  \n",
      " 4   FinishedGoodsFlag      504 non-null    int64  \n",
      " 5   Color                  256 non-null    object \n",
      " 6   SafetyStockLevel       504 non-null    int64  \n",
      " 7   ReorderPoint           504 non-null    int64  \n",
      " 8   StandardCost           504 non-null    object \n",
      " 9   ListPrice              504 non-null    object \n",
      " 10  Size                   211 non-null    object \n",
      " 11  SizeUnitMeasureCode    176 non-null    object \n",
      " 12  WeightUnitMeasureCode  205 non-null    object \n",
      " 13  Weight                 205 non-null    float64\n",
      " 14  DaysToManufacture      504 non-null    int64  \n",
      " 15  ProductLine            278 non-null    object \n",
      " 16  Class                  247 non-null    object \n",
      " 17  Style                  211 non-null    object \n",
      " 18  ProductSubcategoryID   295 non-null    float64\n",
      " 19  ProductModelID         295 non-null    float64\n",
      " 20  SellStartDate          504 non-null    object \n",
      " 21  SellEndDate            98 non-null     object \n",
      " 22  DiscontinuedDate       0 non-null      float64\n",
      " 23  rowguid                504 non-null    object \n",
      " 24  ModifiedDate           504 non-null    object \n",
      "dtypes: float64(4), int64(6), object(15)\n",
      "memory usage: 98.6+ KB\n"
     ]
    }
   ],
   "source": [
    "Product.info()"
   ]
  },
  {
   "cell_type": "markdown",
   "metadata": {},
   "source": [
    "Remove unwanted columns"
   ]
  },
  {
   "cell_type": "code",
   "execution_count": 96,
   "metadata": {},
   "outputs": [],
   "source": [
    "selected_columns = ['ProductID', 'Name', 'Color', 'ProductSubcategoryID', 'DaysToManufacture']\n",
    "Product = Product.loc[:, selected_columns]\n"
   ]
  },
  {
   "cell_type": "markdown",
   "metadata": {},
   "source": [
    "Check duplicated values"
   ]
  },
  {
   "cell_type": "code",
   "execution_count": 97,
   "metadata": {},
   "outputs": [
    {
     "name": "stdout",
     "output_type": "stream",
     "text": [
      "0\n"
     ]
    }
   ],
   "source": [
    "print(Product.duplicated().sum())"
   ]
  },
  {
   "cell_type": "markdown",
   "metadata": {},
   "source": [
    "Check null values"
   ]
  },
  {
   "cell_type": "code",
   "execution_count": 98,
   "metadata": {},
   "outputs": [
    {
     "data": {
      "text/plain": [
       "ProductID                 0\n",
       "Name                      0\n",
       "Color                   248\n",
       "ProductSubcategoryID    209\n",
       "DaysToManufacture         0\n",
       "dtype: int64"
      ]
     },
     "execution_count": 98,
     "metadata": {},
     "output_type": "execute_result"
    }
   ],
   "source": [
    "Product.isnull().sum()"
   ]
  },
  {
   "cell_type": "markdown",
   "metadata": {},
   "source": [
    "Some products doesn't belong to any subcategory so its \"ProductSubcategoryID\" is null, we will keep that. \n",
    "For color, we will assume that the null value for colors are because the products have no distinguishing color, therefor we willl fill in those columns with \"No color\" value"
   ]
  },
  {
   "cell_type": "code",
   "execution_count": 99,
   "metadata": {},
   "outputs": [
    {
     "name": "stdout",
     "output_type": "stream",
     "text": [
      "<class 'pandas.core.frame.DataFrame'>\n",
      "RangeIndex: 504 entries, 0 to 503\n",
      "Data columns (total 5 columns):\n",
      " #   Column                Non-Null Count  Dtype  \n",
      "---  ------                --------------  -----  \n",
      " 0   ProductID             504 non-null    int64  \n",
      " 1   Name                  504 non-null    object \n",
      " 2   Color                 256 non-null    object \n",
      " 3   ProductSubcategoryID  295 non-null    float64\n",
      " 4   DaysToManufacture     504 non-null    int64  \n",
      "dtypes: float64(1), int64(2), object(2)\n",
      "memory usage: 19.8+ KB\n"
     ]
    }
   ],
   "source": [
    "Product.info()"
   ]
  },
  {
   "cell_type": "markdown",
   "metadata": {},
   "source": [
    "As we can see, black color exist in 93 rows in all 256 non null colors, which is a significant number of appearance. For that reason, we are going to impute those null value using most frequently appeared color - Black"
   ]
  },
  {
   "cell_type": "code",
   "execution_count": 100,
   "metadata": {},
   "outputs": [],
   "source": [
    "Product['Color'] = Product['Color'].fillna('No color')"
   ]
  },
  {
   "cell_type": "code",
   "execution_count": 101,
   "metadata": {},
   "outputs": [],
   "source": [
    "Product.to_csv(os.path.join(output_folder_path,'ProductDim.csv'),index=False)"
   ]
  },
  {
   "cell_type": "markdown",
   "metadata": {},
   "source": [
    "**4.ProductSubcategory**"
   ]
  },
  {
   "cell_type": "code",
   "execution_count": 102,
   "metadata": {},
   "outputs": [
    {
     "name": "stdout",
     "output_type": "stream",
     "text": [
      "<class 'pandas.core.frame.DataFrame'>\n",
      "RangeIndex: 37 entries, 0 to 36\n",
      "Data columns (total 5 columns):\n",
      " #   Column                Non-Null Count  Dtype \n",
      "---  ------                --------------  ----- \n",
      " 0   ProductSubcategoryID  37 non-null     int64 \n",
      " 1   ProductCategoryID     37 non-null     int64 \n",
      " 2   Name                  37 non-null     object\n",
      " 3   rowguid               37 non-null     object\n",
      " 4   ModifiedDate          37 non-null     object\n",
      "dtypes: int64(2), object(3)\n",
      "memory usage: 1.6+ KB\n"
     ]
    }
   ],
   "source": [
    "ProductSubcategory.info()"
   ]
  },
  {
   "cell_type": "code",
   "execution_count": 103,
   "metadata": {},
   "outputs": [
    {
     "data": {
      "text/html": [
       "<div>\n",
       "<style scoped>\n",
       "    .dataframe tbody tr th:only-of-type {\n",
       "        vertical-align: middle;\n",
       "    }\n",
       "\n",
       "    .dataframe tbody tr th {\n",
       "        vertical-align: top;\n",
       "    }\n",
       "\n",
       "    .dataframe thead th {\n",
       "        text-align: right;\n",
       "    }\n",
       "</style>\n",
       "<table border=\"1\" class=\"dataframe\">\n",
       "  <thead>\n",
       "    <tr style=\"text-align: right;\">\n",
       "      <th></th>\n",
       "      <th>ProductSubcategoryID</th>\n",
       "      <th>ProductCategoryID</th>\n",
       "      <th>Name</th>\n",
       "      <th>rowguid</th>\n",
       "      <th>ModifiedDate</th>\n",
       "    </tr>\n",
       "  </thead>\n",
       "  <tbody>\n",
       "    <tr>\n",
       "      <th>0</th>\n",
       "      <td>1</td>\n",
       "      <td>1</td>\n",
       "      <td>Mountain Bikes</td>\n",
       "      <td>2d364ade-264a-433c-b092-4fcbf3804e01</td>\n",
       "      <td>2008-04-30 00:00:00.000</td>\n",
       "    </tr>\n",
       "    <tr>\n",
       "      <th>1</th>\n",
       "      <td>2</td>\n",
       "      <td>1</td>\n",
       "      <td>Road Bikes</td>\n",
       "      <td>000310c0-bcc8-42c4-b0c3-45ae611af06b</td>\n",
       "      <td>2008-04-30 00:00:00.000</td>\n",
       "    </tr>\n",
       "    <tr>\n",
       "      <th>2</th>\n",
       "      <td>3</td>\n",
       "      <td>1</td>\n",
       "      <td>Touring Bikes</td>\n",
       "      <td>02c5061d-ecdc-4274-b5f1-e91d76bc3f37</td>\n",
       "      <td>2008-04-30 00:00:00.000</td>\n",
       "    </tr>\n",
       "    <tr>\n",
       "      <th>3</th>\n",
       "      <td>4</td>\n",
       "      <td>2</td>\n",
       "      <td>Handlebars</td>\n",
       "      <td>3ef2c725-7135-4c85-9ae6-ae9a3bdd9283</td>\n",
       "      <td>2008-04-30 00:00:00.000</td>\n",
       "    </tr>\n",
       "    <tr>\n",
       "      <th>4</th>\n",
       "      <td>5</td>\n",
       "      <td>2</td>\n",
       "      <td>Bottom Brackets</td>\n",
       "      <td>a9e54089-8a1e-4cf5-8646-e3801f685934</td>\n",
       "      <td>2008-04-30 00:00:00.000</td>\n",
       "    </tr>\n",
       "  </tbody>\n",
       "</table>\n",
       "</div>"
      ],
      "text/plain": [
       "   ProductSubcategoryID  ProductCategoryID             Name  \\\n",
       "0                     1                  1   Mountain Bikes   \n",
       "1                     2                  1       Road Bikes   \n",
       "2                     3                  1    Touring Bikes   \n",
       "3                     4                  2       Handlebars   \n",
       "4                     5                  2  Bottom Brackets   \n",
       "\n",
       "                                rowguid             ModifiedDate  \n",
       "0  2d364ade-264a-433c-b092-4fcbf3804e01  2008-04-30 00:00:00.000  \n",
       "1  000310c0-bcc8-42c4-b0c3-45ae611af06b  2008-04-30 00:00:00.000  \n",
       "2  02c5061d-ecdc-4274-b5f1-e91d76bc3f37  2008-04-30 00:00:00.000  \n",
       "3  3ef2c725-7135-4c85-9ae6-ae9a3bdd9283  2008-04-30 00:00:00.000  \n",
       "4  a9e54089-8a1e-4cf5-8646-e3801f685934  2008-04-30 00:00:00.000  "
      ]
     },
     "execution_count": 103,
     "metadata": {},
     "output_type": "execute_result"
    }
   ],
   "source": [
    "ProductSubcategory.head()"
   ]
  },
  {
   "cell_type": "code",
   "execution_count": 104,
   "metadata": {},
   "outputs": [],
   "source": [
    "ProductSubcategory['ProductCategoryName'] = ProductSubcategory['ProductCategoryID'].map(ProductCategory.set_index('ProductCategoryID')['Name'])"
   ]
  },
  {
   "cell_type": "markdown",
   "metadata": {},
   "source": [
    "Remove unwanted columns"
   ]
  },
  {
   "cell_type": "code",
   "execution_count": 105,
   "metadata": {},
   "outputs": [],
   "source": [
    "selected_columns = ['ProductSubcategoryID', 'Name', 'ProductCategoryName']\n",
    "ProductSubcategory = ProductSubcategory.loc[:, selected_columns]\n",
    "ProductSubcategory = ProductSubcategory.rename(columns={'Name': 'ProductSubcategoryName'})"
   ]
  },
  {
   "cell_type": "code",
   "execution_count": 106,
   "metadata": {},
   "outputs": [],
   "source": [
    "ProductSubcategory.to_csv(os.path.join(output_folder_path,'ProductSubcategoryDim.csv'),index=False)"
   ]
  },
  {
   "cell_type": "markdown",
   "metadata": {},
   "source": [
    "**5.SalesOrderHeader**"
   ]
  },
  {
   "cell_type": "code",
   "execution_count": 107,
   "metadata": {},
   "outputs": [
    {
     "name": "stdout",
     "output_type": "stream",
     "text": [
      "<class 'pandas.core.frame.DataFrame'>\n",
      "RangeIndex: 31465 entries, 0 to 31464\n",
      "Data columns (total 26 columns):\n",
      " #   Column                  Non-Null Count  Dtype  \n",
      "---  ------                  --------------  -----  \n",
      " 0   SalesOrderID            31465 non-null  int64  \n",
      " 1   RevisionNumber          31465 non-null  int64  \n",
      " 2   OrderDate               31465 non-null  object \n",
      " 3   DueDate                 31465 non-null  object \n",
      " 4   ShipDate                31465 non-null  object \n",
      " 5   Status                  31465 non-null  int64  \n",
      " 6   OnlineOrderFlag         31465 non-null  int64  \n",
      " 7   SalesOrderNumber        31465 non-null  object \n",
      " 8   PurchaseOrderNumber     3806 non-null   object \n",
      " 9   AccountNumber           31465 non-null  object \n",
      " 10  CustomerID              31465 non-null  int64  \n",
      " 11  SalesPersonID           3806 non-null   float64\n",
      " 12  TerritoryID             31465 non-null  int64  \n",
      " 13  BillToAddressID         31465 non-null  int64  \n",
      " 14  ShipToAddressID         31465 non-null  int64  \n",
      " 15  ShipMethodID            31465 non-null  int64  \n",
      " 16  CreditCardID            30334 non-null  float64\n",
      " 17  CreditCardApprovalCode  30334 non-null  object \n",
      " 18  CurrencyRateID          13976 non-null  float64\n",
      " 19  SubTotal                31465 non-null  object \n",
      " 20  TaxAmt                  31465 non-null  object \n",
      " 21  Freight                 31465 non-null  object \n",
      " 22  TotalDue                31465 non-null  object \n",
      " 23  Comment                 0 non-null      float64\n",
      " 24  rowguid                 31465 non-null  object \n",
      " 25  ModifiedDate            31465 non-null  object \n",
      "dtypes: float64(4), int64(9), object(13)\n",
      "memory usage: 6.2+ MB\n"
     ]
    }
   ],
   "source": [
    "SalesOrderHeader.info()"
   ]
  },
  {
   "cell_type": "markdown",
   "metadata": {},
   "source": [
    "Remove unwanted columns"
   ]
  },
  {
   "cell_type": "code",
   "execution_count": 108,
   "metadata": {},
   "outputs": [],
   "source": [
    "selected_columns = ['SalesOrderID', 'OrderDate', 'DueDate','ShipDate','CustomerID','ShipToAddressID','TaxAmt','Freight','OnlineOrderFlag','Status']\n",
    "SalesOrderHeader = SalesOrderHeader.loc[:, selected_columns]"
   ]
  },
  {
   "cell_type": "code",
   "execution_count": 109,
   "metadata": {},
   "outputs": [],
   "source": [
    "SalesOrderHeader['TaxAmt'] = SalesOrderHeader['TaxAmt'].astype('str').str.replace(',', '.').astype(float)\n",
    "SalesOrderHeader['Freight'] = SalesOrderHeader['Freight'].astype('str').str.replace(',', '.').astype(float)\n",
    "SalesOrderHeader['OnlineOrderFlag'] = SalesOrderHeader['OnlineOrderFlag'].astype('bool')\n"
   ]
  },
  {
   "cell_type": "markdown",
   "metadata": {},
   "source": [
    "Check null values and duplicated"
   ]
  },
  {
   "cell_type": "code",
   "execution_count": 110,
   "metadata": {},
   "outputs": [
    {
     "data": {
      "text/plain": [
       "SalesOrderID       0\n",
       "OrderDate          0\n",
       "DueDate            0\n",
       "ShipDate           0\n",
       "CustomerID         0\n",
       "ShipToAddressID    0\n",
       "TaxAmt             0\n",
       "Freight            0\n",
       "OnlineOrderFlag    0\n",
       "Status             0\n",
       "dtype: int64"
      ]
     },
     "execution_count": 110,
     "metadata": {},
     "output_type": "execute_result"
    }
   ],
   "source": [
    "SalesOrderHeader.isnull().sum()"
   ]
  },
  {
   "cell_type": "code",
   "execution_count": 111,
   "metadata": {},
   "outputs": [
    {
     "name": "stdout",
     "output_type": "stream",
     "text": [
      "0\n"
     ]
    }
   ],
   "source": [
    "print(SalesOrderHeader.duplicated().sum())"
   ]
  },
  {
   "cell_type": "code",
   "execution_count": 112,
   "metadata": {},
   "outputs": [],
   "source": [
    "SalesOrderHeader = SalesOrderHeader[(SalesOrderHeader['Status']!=6)]"
   ]
  },
  {
   "cell_type": "code",
   "execution_count": 113,
   "metadata": {},
   "outputs": [
    {
     "data": {
      "text/html": [
       "<div>\n",
       "<style scoped>\n",
       "    .dataframe tbody tr th:only-of-type {\n",
       "        vertical-align: middle;\n",
       "    }\n",
       "\n",
       "    .dataframe tbody tr th {\n",
       "        vertical-align: top;\n",
       "    }\n",
       "\n",
       "    .dataframe thead th {\n",
       "        text-align: right;\n",
       "    }\n",
       "</style>\n",
       "<table border=\"1\" class=\"dataframe\">\n",
       "  <thead>\n",
       "    <tr style=\"text-align: right;\">\n",
       "      <th></th>\n",
       "      <th>SalesOrderID</th>\n",
       "      <th>OrderDate</th>\n",
       "      <th>DueDate</th>\n",
       "      <th>ShipDate</th>\n",
       "      <th>CustomerID</th>\n",
       "      <th>ShipToAddressID</th>\n",
       "      <th>TaxAmt</th>\n",
       "      <th>Freight</th>\n",
       "      <th>OnlineOrderFlag</th>\n",
       "      <th>Status</th>\n",
       "    </tr>\n",
       "  </thead>\n",
       "  <tbody>\n",
       "    <tr>\n",
       "      <th>21</th>\n",
       "      <td>43680</td>\n",
       "      <td>2012-05-31 00:00:00.000</td>\n",
       "      <td>2011-06-12 00:00:00.000</td>\n",
       "      <td>2011-06-07 00:00:00.000</td>\n",
       "      <td>29489</td>\n",
       "      <td>1069</td>\n",
       "      <td>1093.6394</td>\n",
       "      <td>341.7623</td>\n",
       "      <td>False</td>\n",
       "      <td>5</td>\n",
       "    </tr>\n",
       "    <tr>\n",
       "      <th>22</th>\n",
       "      <td>43681</td>\n",
       "      <td>2012-05-31 00:00:00.000</td>\n",
       "      <td>2011-06-12 00:00:00.000</td>\n",
       "      <td>2011-06-07 00:00:00.000</td>\n",
       "      <td>29661</td>\n",
       "      <td>955</td>\n",
       "      <td>1323.0668</td>\n",
       "      <td>413.4584</td>\n",
       "      <td>False</td>\n",
       "      <td>5</td>\n",
       "    </tr>\n",
       "  </tbody>\n",
       "</table>\n",
       "</div>"
      ],
      "text/plain": [
       "    SalesOrderID                OrderDate                  DueDate  \\\n",
       "21         43680  2012-05-31 00:00:00.000  2011-06-12 00:00:00.000   \n",
       "22         43681  2012-05-31 00:00:00.000  2011-06-12 00:00:00.000   \n",
       "\n",
       "                   ShipDate  CustomerID  ShipToAddressID     TaxAmt   Freight  \\\n",
       "21  2011-06-07 00:00:00.000       29489             1069  1093.6394  341.7623   \n",
       "22  2011-06-07 00:00:00.000       29661              955  1323.0668  413.4584   \n",
       "\n",
       "    OnlineOrderFlag  Status  \n",
       "21            False       5  \n",
       "22            False       5  "
      ]
     },
     "execution_count": 113,
     "metadata": {},
     "output_type": "execute_result"
    }
   ],
   "source": [
    "SalesOrderHeader[(SalesOrderHeader['OrderDate'] >= SalesOrderHeader['DueDate']) | (SalesOrderHeader['OrderDate'] >= SalesOrderHeader['ShipDate'])]\n"
   ]
  },
  {
   "cell_type": "code",
   "execution_count": 114,
   "metadata": {},
   "outputs": [
    {
     "data": {
      "text/html": [
       "<div>\n",
       "<style scoped>\n",
       "    .dataframe tbody tr th:only-of-type {\n",
       "        vertical-align: middle;\n",
       "    }\n",
       "\n",
       "    .dataframe tbody tr th {\n",
       "        vertical-align: top;\n",
       "    }\n",
       "\n",
       "    .dataframe thead th {\n",
       "        text-align: right;\n",
       "    }\n",
       "</style>\n",
       "<table border=\"1\" class=\"dataframe\">\n",
       "  <thead>\n",
       "    <tr style=\"text-align: right;\">\n",
       "      <th></th>\n",
       "      <th>SalesOrderID</th>\n",
       "      <th>OrderDate</th>\n",
       "      <th>DueDate</th>\n",
       "      <th>ShipDate</th>\n",
       "      <th>CustomerID</th>\n",
       "      <th>ShipToAddressID</th>\n",
       "      <th>TaxAmt</th>\n",
       "      <th>Freight</th>\n",
       "      <th>OnlineOrderFlag</th>\n",
       "      <th>Status</th>\n",
       "    </tr>\n",
       "  </thead>\n",
       "  <tbody>\n",
       "    <tr>\n",
       "      <th>21</th>\n",
       "      <td>43680</td>\n",
       "      <td>2012-05-31 00:00:00.000</td>\n",
       "      <td>2011-06-12 00:00:00.000</td>\n",
       "      <td>2011-06-07 00:00:00.000</td>\n",
       "      <td>29489</td>\n",
       "      <td>1069</td>\n",
       "      <td>1093.6394</td>\n",
       "      <td>341.7623</td>\n",
       "      <td>False</td>\n",
       "      <td>5</td>\n",
       "    </tr>\n",
       "    <tr>\n",
       "      <th>22</th>\n",
       "      <td>43681</td>\n",
       "      <td>2012-05-31 00:00:00.000</td>\n",
       "      <td>2011-06-12 00:00:00.000</td>\n",
       "      <td>2011-06-07 00:00:00.000</td>\n",
       "      <td>29661</td>\n",
       "      <td>955</td>\n",
       "      <td>1323.0668</td>\n",
       "      <td>413.4584</td>\n",
       "      <td>False</td>\n",
       "      <td>5</td>\n",
       "    </tr>\n",
       "  </tbody>\n",
       "</table>\n",
       "</div>"
      ],
      "text/plain": [
       "    SalesOrderID                OrderDate                  DueDate  \\\n",
       "21         43680  2012-05-31 00:00:00.000  2011-06-12 00:00:00.000   \n",
       "22         43681  2012-05-31 00:00:00.000  2011-06-12 00:00:00.000   \n",
       "\n",
       "                   ShipDate  CustomerID  ShipToAddressID     TaxAmt   Freight  \\\n",
       "21  2011-06-07 00:00:00.000       29489             1069  1093.6394  341.7623   \n",
       "22  2011-06-07 00:00:00.000       29661              955  1323.0668  413.4584   \n",
       "\n",
       "    OnlineOrderFlag  Status  \n",
       "21            False       5  \n",
       "22            False       5  "
      ]
     },
     "execution_count": 114,
     "metadata": {},
     "output_type": "execute_result"
    }
   ],
   "source": [
    "SalesOrderHeader[(SalesOrderHeader['OrderDate'] >= SalesOrderHeader['DueDate']) | (SalesOrderHeader['OrderDate'] >= SalesOrderHeader['ShipDate'])]\n"
   ]
  },
  {
   "cell_type": "code",
   "execution_count": 115,
   "metadata": {},
   "outputs": [],
   "source": [
    "SalesOrderHeader['OrderDate'] = pd.to_datetime(SalesOrderHeader['OrderDate'])\n",
    "SalesOrderHeader['DueDate'] = pd.to_datetime(SalesOrderHeader['DueDate'])\n",
    "SalesOrderHeader['ShipDate'] = pd.to_datetime(SalesOrderHeader['ShipDate'])"
   ]
  },
  {
   "cell_type": "markdown",
   "metadata": {},
   "source": [
    "Examine the difference between OrderDate and DueDate"
   ]
  },
  {
   "cell_type": "code",
   "execution_count": 116,
   "metadata": {},
   "outputs": [
    {
     "data": {
      "text/plain": [
       "12 days      31139\n",
       "13 days          9\n",
       "-354 days        2\n",
       "Name: count, dtype: int64"
      ]
     },
     "execution_count": 116,
     "metadata": {},
     "output_type": "execute_result"
    }
   ],
   "source": [
    "(SalesOrderHeader['DueDate'] - SalesOrderHeader['OrderDate']).value_counts()\n"
   ]
  },
  {
   "cell_type": "code",
   "execution_count": 117,
   "metadata": {},
   "outputs": [
    {
     "data": {
      "text/plain": [
       "7 days       31139\n",
       "8 days           9\n",
       "-359 days        2\n",
       "Name: count, dtype: int64"
      ]
     },
     "execution_count": 117,
     "metadata": {},
     "output_type": "execute_result"
    }
   ],
   "source": [
    "(SalesOrderHeader['ShipDate'] - SalesOrderHeader['OrderDate']).value_counts()"
   ]
  },
  {
   "cell_type": "markdown",
   "metadata": {},
   "source": [
    "2 rows have negative time interval, majority are 12 days and some are 13 days from DueDate, while 7 and 8 days from ShipDate. Therefore, we will subtract 12 days from DueDate or 7 days from ShipDate to get the OrderDate of negative intervals respectively"
   ]
  },
  {
   "cell_type": "code",
   "execution_count": 118,
   "metadata": {},
   "outputs": [],
   "source": [
    "SalesOrderHeader.loc[(SalesOrderHeader['OrderDate'] >= SalesOrderHeader['DueDate']) | (SalesOrderHeader['OrderDate'] >= SalesOrderHeader['ShipDate']), 'OrderDate']=SalesOrderHeader[(SalesOrderHeader['OrderDate'] >= SalesOrderHeader['DueDate']) | (SalesOrderHeader['OrderDate'] >= SalesOrderHeader['ShipDate'])]['ShipDate'] - pd.Timedelta(days=7)\n"
   ]
  },
  {
   "cell_type": "markdown",
   "metadata": {},
   "source": [
    "Create Date dimension"
   ]
  },
  {
   "cell_type": "markdown",
   "metadata": {},
   "source": [
    "    Extract unique date values"
   ]
  },
  {
   "cell_type": "code",
   "execution_count": null,
   "metadata": {},
   "outputs": [],
   "source": []
  },
  {
   "cell_type": "code",
   "execution_count": 119,
   "metadata": {},
   "outputs": [],
   "source": [
    "all_dates = pd.concat([\n",
    "    SalesOrderHeader['OrderDate'],\n",
    "    SalesOrderHeader['DueDate'],\n",
    "    SalesOrderHeader['ShipDate']\n",
    "]).sort_values().reset_index(drop=True)\n",
    "date_records = pd.DataFrame({\n",
    "    'DateID': all_dates.dt.strftime('%Y%m%d').astype('int64'),  # Generating sequential DateID starting from 1\n",
    "    'FullDate': all_dates.dt.strftime('%Y-%m-%d'),  # Converting datetime to string\n",
    "    'IsWeekDay': all_dates.dt.weekday < 5,  # Weekdays are less than 5\n",
    "    'DayOfWeek': all_dates.dt.day_name() \n",
    "})\n",
    "\n",
    "date_records = date_records.drop_duplicates()\n",
    "date_records.to_csv(os.path.join(output_folder_path,'DateDim.csv'),index=False) "
   ]
  },
  {
   "cell_type": "code",
   "execution_count": 120,
   "metadata": {},
   "outputs": [
    {
     "data": {
      "text/html": [
       "<div>\n",
       "<style scoped>\n",
       "    .dataframe tbody tr th:only-of-type {\n",
       "        vertical-align: middle;\n",
       "    }\n",
       "\n",
       "    .dataframe tbody tr th {\n",
       "        vertical-align: top;\n",
       "    }\n",
       "\n",
       "    .dataframe thead th {\n",
       "        text-align: right;\n",
       "    }\n",
       "</style>\n",
       "<table border=\"1\" class=\"dataframe\">\n",
       "  <thead>\n",
       "    <tr style=\"text-align: right;\">\n",
       "      <th></th>\n",
       "      <th>DateID</th>\n",
       "      <th>FullDate</th>\n",
       "      <th>IsWeekDay</th>\n",
       "      <th>DayOfWeek</th>\n",
       "    </tr>\n",
       "  </thead>\n",
       "  <tbody>\n",
       "    <tr>\n",
       "      <th>0</th>\n",
       "      <td>20110531</td>\n",
       "      <td>2011-05-31</td>\n",
       "      <td>True</td>\n",
       "      <td>Tuesday</td>\n",
       "    </tr>\n",
       "    <tr>\n",
       "      <th>42</th>\n",
       "      <td>20110601</td>\n",
       "      <td>2011-06-01</td>\n",
       "      <td>True</td>\n",
       "      <td>Wednesday</td>\n",
       "    </tr>\n",
       "    <tr>\n",
       "      <th>46</th>\n",
       "      <td>20110602</td>\n",
       "      <td>2011-06-02</td>\n",
       "      <td>True</td>\n",
       "      <td>Thursday</td>\n",
       "    </tr>\n",
       "    <tr>\n",
       "      <th>51</th>\n",
       "      <td>20110603</td>\n",
       "      <td>2011-06-03</td>\n",
       "      <td>True</td>\n",
       "      <td>Friday</td>\n",
       "    </tr>\n",
       "    <tr>\n",
       "      <th>53</th>\n",
       "      <td>20110604</td>\n",
       "      <td>2011-06-04</td>\n",
       "      <td>False</td>\n",
       "      <td>Saturday</td>\n",
       "    </tr>\n",
       "    <tr>\n",
       "      <th>...</th>\n",
       "      <td>...</td>\n",
       "      <td>...</td>\n",
       "      <td>...</td>\n",
       "      <td>...</td>\n",
       "    </tr>\n",
       "    <tr>\n",
       "      <th>93297</th>\n",
       "      <td>20140708</td>\n",
       "      <td>2014-07-08</td>\n",
       "      <td>True</td>\n",
       "      <td>Tuesday</td>\n",
       "    </tr>\n",
       "    <tr>\n",
       "      <th>93325</th>\n",
       "      <td>20140709</td>\n",
       "      <td>2014-07-09</td>\n",
       "      <td>True</td>\n",
       "      <td>Wednesday</td>\n",
       "    </tr>\n",
       "    <tr>\n",
       "      <th>93357</th>\n",
       "      <td>20140710</td>\n",
       "      <td>2014-07-10</td>\n",
       "      <td>True</td>\n",
       "      <td>Thursday</td>\n",
       "    </tr>\n",
       "    <tr>\n",
       "      <th>93388</th>\n",
       "      <td>20140711</td>\n",
       "      <td>2014-07-11</td>\n",
       "      <td>True</td>\n",
       "      <td>Friday</td>\n",
       "    </tr>\n",
       "    <tr>\n",
       "      <th>93410</th>\n",
       "      <td>20140712</td>\n",
       "      <td>2014-07-12</td>\n",
       "      <td>False</td>\n",
       "      <td>Saturday</td>\n",
       "    </tr>\n",
       "  </tbody>\n",
       "</table>\n",
       "<p>1139 rows × 4 columns</p>\n",
       "</div>"
      ],
      "text/plain": [
       "         DateID    FullDate  IsWeekDay  DayOfWeek\n",
       "0      20110531  2011-05-31       True    Tuesday\n",
       "42     20110601  2011-06-01       True  Wednesday\n",
       "46     20110602  2011-06-02       True   Thursday\n",
       "51     20110603  2011-06-03       True     Friday\n",
       "53     20110604  2011-06-04      False   Saturday\n",
       "...         ...         ...        ...        ...\n",
       "93297  20140708  2014-07-08       True    Tuesday\n",
       "93325  20140709  2014-07-09       True  Wednesday\n",
       "93357  20140710  2014-07-10       True   Thursday\n",
       "93388  20140711  2014-07-11       True     Friday\n",
       "93410  20140712  2014-07-12      False   Saturday\n",
       "\n",
       "[1139 rows x 4 columns]"
      ]
     },
     "execution_count": 120,
     "metadata": {},
     "output_type": "execute_result"
    }
   ],
   "source": [
    "date_records"
   ]
  },
  {
   "cell_type": "code",
   "execution_count": 121,
   "metadata": {},
   "outputs": [],
   "source": [
    "def date_to_id(date):\n",
    "    return date.strftime('%Y%m%d')"
   ]
  },
  {
   "cell_type": "code",
   "execution_count": 122,
   "metadata": {},
   "outputs": [],
   "source": [
    "for column in ['OrderDate','DueDate','ShipDate']:\n",
    "    SalesOrderHeader[column] = SalesOrderHeader[column].apply(date_to_id)\n",
    "    SalesOrderHeader[column] = SalesOrderHeader[column].astype('int64')\n",
    "    SalesOrderHeader.rename(columns={column: column+'ID'}, inplace=True)"
   ]
  },
  {
   "cell_type": "code",
   "execution_count": null,
   "metadata": {},
   "outputs": [],
   "source": []
  },
  {
   "cell_type": "code",
   "execution_count": 123,
   "metadata": {},
   "outputs": [
    {
     "name": "stdout",
     "output_type": "stream",
     "text": [
      "<class 'pandas.core.frame.DataFrame'>\n",
      "Index: 31150 entries, 0 to 31464\n",
      "Data columns (total 10 columns):\n",
      " #   Column           Non-Null Count  Dtype  \n",
      "---  ------           --------------  -----  \n",
      " 0   SalesOrderID     31150 non-null  int64  \n",
      " 1   OrderDateID      31150 non-null  int64  \n",
      " 2   DueDateID        31150 non-null  int64  \n",
      " 3   ShipDateID       31150 non-null  int64  \n",
      " 4   CustomerID       31150 non-null  int64  \n",
      " 5   ShipToAddressID  31150 non-null  int64  \n",
      " 6   TaxAmt           31150 non-null  float64\n",
      " 7   Freight          31150 non-null  float64\n",
      " 8   OnlineOrderFlag  31150 non-null  bool   \n",
      " 9   Status           31150 non-null  int64  \n",
      "dtypes: bool(1), float64(2), int64(7)\n",
      "memory usage: 2.4 MB\n"
     ]
    }
   ],
   "source": [
    "SalesOrderHeader.info()"
   ]
  },
  {
   "cell_type": "markdown",
   "metadata": {},
   "source": [
    "**6.SalesOrderDetail**"
   ]
  },
  {
   "cell_type": "code",
   "execution_count": 124,
   "metadata": {},
   "outputs": [
    {
     "name": "stdout",
     "output_type": "stream",
     "text": [
      "<class 'pandas.core.frame.DataFrame'>\n",
      "RangeIndex: 121317 entries, 0 to 121316\n",
      "Data columns (total 11 columns):\n",
      " #   Column                 Non-Null Count   Dtype  \n",
      "---  ------                 --------------   -----  \n",
      " 0   SalesOrderID           121317 non-null  int64  \n",
      " 1   SalesOrderDetailID     121317 non-null  int64  \n",
      " 2   CarrierTrackingNumber  60919 non-null   object \n",
      " 3   OrderQty               121302 non-null  float64\n",
      " 4   ProductID              121317 non-null  int64  \n",
      " 5   SpecialOfferID         121317 non-null  int64  \n",
      " 6   UnitPrice              121314 non-null  object \n",
      " 7   UnitPriceDiscount      121317 non-null  object \n",
      " 8   LineTotal              121317 non-null  float64\n",
      " 9   rowguid                121317 non-null  object \n",
      " 10  ModifiedDate           121317 non-null  object \n",
      "dtypes: float64(2), int64(4), object(5)\n",
      "memory usage: 10.2+ MB\n"
     ]
    }
   ],
   "source": [
    "SalesOrderDetail.info()"
   ]
  },
  {
   "cell_type": "code",
   "execution_count": 125,
   "metadata": {},
   "outputs": [],
   "source": [
    "selected_columns = ['SalesOrderID', 'SalesOrderDetailID','OrderQty','ProductID','UnitPrice','UnitPriceDiscount','LineTotal']\n",
    "SalesOrderDetail = SalesOrderDetail.loc[:, selected_columns]"
   ]
  },
  {
   "cell_type": "code",
   "execution_count": null,
   "metadata": {},
   "outputs": [],
   "source": []
  },
  {
   "cell_type": "code",
   "execution_count": 126,
   "metadata": {},
   "outputs": [],
   "source": [
    "SalesOrderDetail['UnitPrice'] = SalesOrderDetail['UnitPrice'].astype('str').str.replace(',', '.').astype(float)\n",
    "SalesOrderDetail['LineTotal'] = SalesOrderDetail['LineTotal'].astype('str').str.replace(',', '.').astype(float)\n",
    "SalesOrderDetail['UnitPriceDiscount'] = SalesOrderDetail['UnitPriceDiscount'].astype('str').str.replace(',', '.').astype(float)"
   ]
  },
  {
   "cell_type": "code",
   "execution_count": 127,
   "metadata": {},
   "outputs": [],
   "source": [
    "def get_most_frequent_price(product_id):\n",
    "    return SalesOrderDetail[SalesOrderDetail['ProductID'] == product_id]['UnitPrice'].mode()"
   ]
  },
  {
   "cell_type": "code",
   "execution_count": 128,
   "metadata": {},
   "outputs": [],
   "source": [
    "SalesOrderDetail.loc[(SalesOrderDetail['UnitPrice'] <= 0)| (SalesOrderDetail['UnitPrice'].isna())  ,'UnitPrice'] = SalesOrderDetail.loc[(SalesOrderDetail['UnitPrice'] <= 0)| (SalesOrderDetail['UnitPrice'].isna())]['ProductID'].apply(get_most_frequent_price)"
   ]
  },
  {
   "cell_type": "code",
   "execution_count": 129,
   "metadata": {},
   "outputs": [],
   "source": [
    "SalesOrderDetail.loc[(SalesOrderDetail['OrderQty'] <= 0),'OrderQty'] = - SalesOrderDetail.loc[(SalesOrderDetail['OrderQty'] <= 0)]['OrderQty']"
   ]
  },
  {
   "cell_type": "code",
   "execution_count": 130,
   "metadata": {},
   "outputs": [],
   "source": [
    "SalesOrderDetail = SalesOrderDetail.drop_duplicates().dropna()"
   ]
  },
  {
   "cell_type": "code",
   "execution_count": 131,
   "metadata": {},
   "outputs": [],
   "source": [
    "SalesOrderDetail['LineTotal']  = (SalesOrderDetail['OrderQty'] * SalesOrderDetail[\"UnitPrice\"]*(1-SalesOrderDetail['UnitPriceDiscount']))"
   ]
  },
  {
   "cell_type": "code",
   "execution_count": 132,
   "metadata": {},
   "outputs": [
    {
     "name": "stdout",
     "output_type": "stream",
     "text": [
      "<class 'pandas.core.frame.DataFrame'>\n",
      "Index: 121268 entries, 0 to 121316\n",
      "Data columns (total 7 columns):\n",
      " #   Column              Non-Null Count   Dtype  \n",
      "---  ------              --------------   -----  \n",
      " 0   SalesOrderID        121268 non-null  int64  \n",
      " 1   SalesOrderDetailID  121268 non-null  int64  \n",
      " 2   OrderQty            121268 non-null  float64\n",
      " 3   ProductID           121268 non-null  int64  \n",
      " 4   UnitPrice           121268 non-null  float64\n",
      " 5   UnitPriceDiscount   121268 non-null  float64\n",
      " 6   LineTotal           121268 non-null  float64\n",
      "dtypes: float64(4), int64(3)\n",
      "memory usage: 7.4 MB\n"
     ]
    }
   ],
   "source": [
    "SalesOrderDetail.info()"
   ]
  },
  {
   "cell_type": "code",
   "execution_count": 133,
   "metadata": {},
   "outputs": [],
   "source": [
    "SalesOrderDetail.rename(columns={'UnitPriceDiscount': 'PercentDiscount'}, inplace=True)"
   ]
  },
  {
   "cell_type": "code",
   "execution_count": 134,
   "metadata": {},
   "outputs": [],
   "source": [
    "SalesOrderDetail.rename(columns={'SalesOrderDetailID': 'SaleItemFactID'}, inplace=True)\n"
   ]
  },
  {
   "cell_type": "code",
   "execution_count": 135,
   "metadata": {},
   "outputs": [
    {
     "data": {
      "text/html": [
       "<div>\n",
       "<style scoped>\n",
       "    .dataframe tbody tr th:only-of-type {\n",
       "        vertical-align: middle;\n",
       "    }\n",
       "\n",
       "    .dataframe tbody tr th {\n",
       "        vertical-align: top;\n",
       "    }\n",
       "\n",
       "    .dataframe thead th {\n",
       "        text-align: right;\n",
       "    }\n",
       "</style>\n",
       "<table border=\"1\" class=\"dataframe\">\n",
       "  <thead>\n",
       "    <tr style=\"text-align: right;\">\n",
       "      <th></th>\n",
       "      <th>SalesOrderID</th>\n",
       "      <th>SaleItemFactID</th>\n",
       "      <th>OrderQty</th>\n",
       "      <th>ProductID</th>\n",
       "      <th>UnitPrice</th>\n",
       "      <th>PercentDiscount</th>\n",
       "      <th>LineTotal</th>\n",
       "    </tr>\n",
       "  </thead>\n",
       "  <tbody>\n",
       "    <tr>\n",
       "      <th>149</th>\n",
       "      <td>43676</td>\n",
       "      <td>150</td>\n",
       "      <td>2.0</td>\n",
       "      <td>776</td>\n",
       "      <td>2024.994</td>\n",
       "      <td>0.0</td>\n",
       "      <td>4049.988</td>\n",
       "    </tr>\n",
       "    <tr>\n",
       "      <th>150</th>\n",
       "      <td>43676</td>\n",
       "      <td>151</td>\n",
       "      <td>2.0</td>\n",
       "      <td>778</td>\n",
       "      <td>2024.994</td>\n",
       "      <td>0.0</td>\n",
       "      <td>4049.988</td>\n",
       "    </tr>\n",
       "    <tr>\n",
       "      <th>151</th>\n",
       "      <td>43676</td>\n",
       "      <td>152</td>\n",
       "      <td>1.0</td>\n",
       "      <td>710</td>\n",
       "      <td>5.700</td>\n",
       "      <td>0.0</td>\n",
       "      <td>5.700</td>\n",
       "    </tr>\n",
       "    <tr>\n",
       "      <th>152</th>\n",
       "      <td>43676</td>\n",
       "      <td>153</td>\n",
       "      <td>3.0</td>\n",
       "      <td>775</td>\n",
       "      <td>2024.994</td>\n",
       "      <td>0.0</td>\n",
       "      <td>6074.982</td>\n",
       "    </tr>\n",
       "    <tr>\n",
       "      <th>153</th>\n",
       "      <td>43676</td>\n",
       "      <td>154</td>\n",
       "      <td>4.0</td>\n",
       "      <td>709</td>\n",
       "      <td>5.700</td>\n",
       "      <td>0.0</td>\n",
       "      <td>22.800</td>\n",
       "    </tr>\n",
       "  </tbody>\n",
       "</table>\n",
       "</div>"
      ],
      "text/plain": [
       "     SalesOrderID  SaleItemFactID  OrderQty  ProductID  UnitPrice  \\\n",
       "149         43676             150       2.0        776   2024.994   \n",
       "150         43676             151       2.0        778   2024.994   \n",
       "151         43676             152       1.0        710      5.700   \n",
       "152         43676             153       3.0        775   2024.994   \n",
       "153         43676             154       4.0        709      5.700   \n",
       "\n",
       "     PercentDiscount  LineTotal  \n",
       "149              0.0   4049.988  \n",
       "150              0.0   4049.988  \n",
       "151              0.0      5.700  \n",
       "152              0.0   6074.982  \n",
       "153              0.0     22.800  "
      ]
     },
     "execution_count": 135,
     "metadata": {},
     "output_type": "execute_result"
    }
   ],
   "source": [
    "SalesOrderDetail[SalesOrderDetail['SalesOrderID']==43676]"
   ]
  },
  {
   "cell_type": "code",
   "execution_count": 136,
   "metadata": {},
   "outputs": [],
   "source": [
    "SalesOrderDetail = pd.merge(SalesOrderHeader, SalesOrderDetail, on='SalesOrderID', how='inner')"
   ]
  },
  {
   "cell_type": "code",
   "execution_count": 137,
   "metadata": {},
   "outputs": [
    {
     "data": {
      "text/html": [
       "<div>\n",
       "<style scoped>\n",
       "    .dataframe tbody tr th:only-of-type {\n",
       "        vertical-align: middle;\n",
       "    }\n",
       "\n",
       "    .dataframe tbody tr th {\n",
       "        vertical-align: top;\n",
       "    }\n",
       "\n",
       "    .dataframe thead th {\n",
       "        text-align: right;\n",
       "    }\n",
       "</style>\n",
       "<table border=\"1\" class=\"dataframe\">\n",
       "  <thead>\n",
       "    <tr style=\"text-align: right;\">\n",
       "      <th></th>\n",
       "      <th>SalesOrderID</th>\n",
       "      <th>OrderDateID</th>\n",
       "      <th>DueDateID</th>\n",
       "      <th>ShipDateID</th>\n",
       "      <th>CustomerID</th>\n",
       "      <th>ShipToAddressID</th>\n",
       "      <th>TaxAmt</th>\n",
       "      <th>Freight</th>\n",
       "      <th>OnlineOrderFlag</th>\n",
       "      <th>Status</th>\n",
       "      <th>SaleItemFactID</th>\n",
       "      <th>OrderQty</th>\n",
       "      <th>ProductID</th>\n",
       "      <th>UnitPrice</th>\n",
       "      <th>PercentDiscount</th>\n",
       "      <th>LineTotal</th>\n",
       "    </tr>\n",
       "  </thead>\n",
       "  <tbody>\n",
       "    <tr>\n",
       "      <th>0</th>\n",
       "      <td>43659</td>\n",
       "      <td>20110531</td>\n",
       "      <td>20110612</td>\n",
       "      <td>20110607</td>\n",
       "      <td>29825</td>\n",
       "      <td>985</td>\n",
       "      <td>1971.5149</td>\n",
       "      <td>616.0984</td>\n",
       "      <td>False</td>\n",
       "      <td>5</td>\n",
       "      <td>1</td>\n",
       "      <td>1.0</td>\n",
       "      <td>776</td>\n",
       "      <td>2024.994</td>\n",
       "      <td>0.0</td>\n",
       "      <td>2024.994</td>\n",
       "    </tr>\n",
       "    <tr>\n",
       "      <th>1</th>\n",
       "      <td>43659</td>\n",
       "      <td>20110531</td>\n",
       "      <td>20110612</td>\n",
       "      <td>20110607</td>\n",
       "      <td>29825</td>\n",
       "      <td>985</td>\n",
       "      <td>1971.5149</td>\n",
       "      <td>616.0984</td>\n",
       "      <td>False</td>\n",
       "      <td>5</td>\n",
       "      <td>2</td>\n",
       "      <td>3.0</td>\n",
       "      <td>777</td>\n",
       "      <td>2024.994</td>\n",
       "      <td>0.0</td>\n",
       "      <td>6074.982</td>\n",
       "    </tr>\n",
       "    <tr>\n",
       "      <th>2</th>\n",
       "      <td>43659</td>\n",
       "      <td>20110531</td>\n",
       "      <td>20110612</td>\n",
       "      <td>20110607</td>\n",
       "      <td>29825</td>\n",
       "      <td>985</td>\n",
       "      <td>1971.5149</td>\n",
       "      <td>616.0984</td>\n",
       "      <td>False</td>\n",
       "      <td>5</td>\n",
       "      <td>3</td>\n",
       "      <td>1.0</td>\n",
       "      <td>778</td>\n",
       "      <td>2024.994</td>\n",
       "      <td>0.0</td>\n",
       "      <td>2024.994</td>\n",
       "    </tr>\n",
       "    <tr>\n",
       "      <th>3</th>\n",
       "      <td>43659</td>\n",
       "      <td>20110531</td>\n",
       "      <td>20110612</td>\n",
       "      <td>20110607</td>\n",
       "      <td>29825</td>\n",
       "      <td>985</td>\n",
       "      <td>1971.5149</td>\n",
       "      <td>616.0984</td>\n",
       "      <td>False</td>\n",
       "      <td>5</td>\n",
       "      <td>4</td>\n",
       "      <td>1.0</td>\n",
       "      <td>771</td>\n",
       "      <td>2039.994</td>\n",
       "      <td>0.0</td>\n",
       "      <td>2039.994</td>\n",
       "    </tr>\n",
       "    <tr>\n",
       "      <th>4</th>\n",
       "      <td>43659</td>\n",
       "      <td>20110531</td>\n",
       "      <td>20110612</td>\n",
       "      <td>20110607</td>\n",
       "      <td>29825</td>\n",
       "      <td>985</td>\n",
       "      <td>1971.5149</td>\n",
       "      <td>616.0984</td>\n",
       "      <td>False</td>\n",
       "      <td>5</td>\n",
       "      <td>5</td>\n",
       "      <td>1.0</td>\n",
       "      <td>772</td>\n",
       "      <td>2039.994</td>\n",
       "      <td>0.0</td>\n",
       "      <td>2039.994</td>\n",
       "    </tr>\n",
       "    <tr>\n",
       "      <th>...</th>\n",
       "      <td>...</td>\n",
       "      <td>...</td>\n",
       "      <td>...</td>\n",
       "      <td>...</td>\n",
       "      <td>...</td>\n",
       "      <td>...</td>\n",
       "      <td>...</td>\n",
       "      <td>...</td>\n",
       "      <td>...</td>\n",
       "      <td>...</td>\n",
       "      <td>...</td>\n",
       "      <td>...</td>\n",
       "      <td>...</td>\n",
       "      <td>...</td>\n",
       "      <td>...</td>\n",
       "      <td>...</td>\n",
       "    </tr>\n",
       "    <tr>\n",
       "      <th>120093</th>\n",
       "      <td>75122</td>\n",
       "      <td>20140630</td>\n",
       "      <td>20140712</td>\n",
       "      <td>20140707</td>\n",
       "      <td>15868</td>\n",
       "      <td>14616</td>\n",
       "      <td>2.4776</td>\n",
       "      <td>0.7743</td>\n",
       "      <td>True</td>\n",
       "      <td>5</td>\n",
       "      <td>121313</td>\n",
       "      <td>1.0</td>\n",
       "      <td>878</td>\n",
       "      <td>21.980</td>\n",
       "      <td>0.0</td>\n",
       "      <td>21.980</td>\n",
       "    </tr>\n",
       "    <tr>\n",
       "      <th>120094</th>\n",
       "      <td>75122</td>\n",
       "      <td>20140630</td>\n",
       "      <td>20140712</td>\n",
       "      <td>20140707</td>\n",
       "      <td>15868</td>\n",
       "      <td>14616</td>\n",
       "      <td>2.4776</td>\n",
       "      <td>0.7743</td>\n",
       "      <td>True</td>\n",
       "      <td>5</td>\n",
       "      <td>121314</td>\n",
       "      <td>1.0</td>\n",
       "      <td>712</td>\n",
       "      <td>8.990</td>\n",
       "      <td>0.0</td>\n",
       "      <td>8.990</td>\n",
       "    </tr>\n",
       "    <tr>\n",
       "      <th>120095</th>\n",
       "      <td>75123</td>\n",
       "      <td>20140630</td>\n",
       "      <td>20140712</td>\n",
       "      <td>20140707</td>\n",
       "      <td>18759</td>\n",
       "      <td>14024</td>\n",
       "      <td>15.1976</td>\n",
       "      <td>4.7493</td>\n",
       "      <td>True</td>\n",
       "      <td>5</td>\n",
       "      <td>121315</td>\n",
       "      <td>1.0</td>\n",
       "      <td>878</td>\n",
       "      <td>21.980</td>\n",
       "      <td>0.0</td>\n",
       "      <td>21.980</td>\n",
       "    </tr>\n",
       "    <tr>\n",
       "      <th>120096</th>\n",
       "      <td>75123</td>\n",
       "      <td>20140630</td>\n",
       "      <td>20140712</td>\n",
       "      <td>20140707</td>\n",
       "      <td>18759</td>\n",
       "      <td>14024</td>\n",
       "      <td>15.1976</td>\n",
       "      <td>4.7493</td>\n",
       "      <td>True</td>\n",
       "      <td>5</td>\n",
       "      <td>121316</td>\n",
       "      <td>1.0</td>\n",
       "      <td>879</td>\n",
       "      <td>159.000</td>\n",
       "      <td>0.0</td>\n",
       "      <td>159.000</td>\n",
       "    </tr>\n",
       "    <tr>\n",
       "      <th>120097</th>\n",
       "      <td>75123</td>\n",
       "      <td>20140630</td>\n",
       "      <td>20140712</td>\n",
       "      <td>20140707</td>\n",
       "      <td>18759</td>\n",
       "      <td>14024</td>\n",
       "      <td>15.1976</td>\n",
       "      <td>4.7493</td>\n",
       "      <td>True</td>\n",
       "      <td>5</td>\n",
       "      <td>121317</td>\n",
       "      <td>1.0</td>\n",
       "      <td>712</td>\n",
       "      <td>8.990</td>\n",
       "      <td>0.0</td>\n",
       "      <td>8.990</td>\n",
       "    </tr>\n",
       "  </tbody>\n",
       "</table>\n",
       "<p>120098 rows × 16 columns</p>\n",
       "</div>"
      ],
      "text/plain": [
       "        SalesOrderID  OrderDateID  DueDateID  ShipDateID  CustomerID  \\\n",
       "0              43659     20110531   20110612    20110607       29825   \n",
       "1              43659     20110531   20110612    20110607       29825   \n",
       "2              43659     20110531   20110612    20110607       29825   \n",
       "3              43659     20110531   20110612    20110607       29825   \n",
       "4              43659     20110531   20110612    20110607       29825   \n",
       "...              ...          ...        ...         ...         ...   \n",
       "120093         75122     20140630   20140712    20140707       15868   \n",
       "120094         75122     20140630   20140712    20140707       15868   \n",
       "120095         75123     20140630   20140712    20140707       18759   \n",
       "120096         75123     20140630   20140712    20140707       18759   \n",
       "120097         75123     20140630   20140712    20140707       18759   \n",
       "\n",
       "        ShipToAddressID     TaxAmt   Freight  OnlineOrderFlag  Status  \\\n",
       "0                   985  1971.5149  616.0984            False       5   \n",
       "1                   985  1971.5149  616.0984            False       5   \n",
       "2                   985  1971.5149  616.0984            False       5   \n",
       "3                   985  1971.5149  616.0984            False       5   \n",
       "4                   985  1971.5149  616.0984            False       5   \n",
       "...                 ...        ...       ...              ...     ...   \n",
       "120093            14616     2.4776    0.7743             True       5   \n",
       "120094            14616     2.4776    0.7743             True       5   \n",
       "120095            14024    15.1976    4.7493             True       5   \n",
       "120096            14024    15.1976    4.7493             True       5   \n",
       "120097            14024    15.1976    4.7493             True       5   \n",
       "\n",
       "        SaleItemFactID  OrderQty  ProductID  UnitPrice  PercentDiscount  \\\n",
       "0                    1       1.0        776   2024.994              0.0   \n",
       "1                    2       3.0        777   2024.994              0.0   \n",
       "2                    3       1.0        778   2024.994              0.0   \n",
       "3                    4       1.0        771   2039.994              0.0   \n",
       "4                    5       1.0        772   2039.994              0.0   \n",
       "...                ...       ...        ...        ...              ...   \n",
       "120093          121313       1.0        878     21.980              0.0   \n",
       "120094          121314       1.0        712      8.990              0.0   \n",
       "120095          121315       1.0        878     21.980              0.0   \n",
       "120096          121316       1.0        879    159.000              0.0   \n",
       "120097          121317       1.0        712      8.990              0.0   \n",
       "\n",
       "        LineTotal  \n",
       "0        2024.994  \n",
       "1        6074.982  \n",
       "2        2024.994  \n",
       "3        2039.994  \n",
       "4        2039.994  \n",
       "...           ...  \n",
       "120093     21.980  \n",
       "120094      8.990  \n",
       "120095     21.980  \n",
       "120096    159.000  \n",
       "120097      8.990  \n",
       "\n",
       "[120098 rows x 16 columns]"
      ]
     },
     "execution_count": 137,
     "metadata": {},
     "output_type": "execute_result"
    }
   ],
   "source": [
    "SalesOrderDetail"
   ]
  },
  {
   "cell_type": "code",
   "execution_count": 138,
   "metadata": {},
   "outputs": [
    {
     "data": {
      "text/html": [
       "<div>\n",
       "<style scoped>\n",
       "    .dataframe tbody tr th:only-of-type {\n",
       "        vertical-align: middle;\n",
       "    }\n",
       "\n",
       "    .dataframe tbody tr th {\n",
       "        vertical-align: top;\n",
       "    }\n",
       "\n",
       "    .dataframe thead th {\n",
       "        text-align: right;\n",
       "    }\n",
       "</style>\n",
       "<table border=\"1\" class=\"dataframe\">\n",
       "  <thead>\n",
       "    <tr style=\"text-align: right;\">\n",
       "      <th></th>\n",
       "      <th>SalesOrderID</th>\n",
       "      <th>OrderDateID</th>\n",
       "      <th>DueDateID</th>\n",
       "      <th>ShipDateID</th>\n",
       "      <th>CustomerID</th>\n",
       "      <th>ShipToAddressID</th>\n",
       "      <th>TaxAmt</th>\n",
       "      <th>Freight</th>\n",
       "      <th>OnlineOrderFlag</th>\n",
       "      <th>Status</th>\n",
       "      <th>SaleItemFactID</th>\n",
       "      <th>OrderQty</th>\n",
       "      <th>ProductID</th>\n",
       "      <th>UnitPrice</th>\n",
       "      <th>PercentDiscount</th>\n",
       "      <th>LineTotal</th>\n",
       "    </tr>\n",
       "  </thead>\n",
       "  <tbody>\n",
       "  </tbody>\n",
       "</table>\n",
       "</div>"
      ],
      "text/plain": [
       "Empty DataFrame\n",
       "Columns: [SalesOrderID, OrderDateID, DueDateID, ShipDateID, CustomerID, ShipToAddressID, TaxAmt, Freight, OnlineOrderFlag, Status, SaleItemFactID, OrderQty, ProductID, UnitPrice, PercentDiscount, LineTotal]\n",
       "Index: []"
      ]
     },
     "execution_count": 138,
     "metadata": {},
     "output_type": "execute_result"
    }
   ],
   "source": [
    "SalesOrderDetail[SalesOrderDetail['SalesOrderID']==43676]"
   ]
  },
  {
   "cell_type": "code",
   "execution_count": 139,
   "metadata": {},
   "outputs": [],
   "source": [
    "SalesOrderDetail.to_csv(os.path.join(output_folder_path,'SaleItemFact.csv'),index=False)"
   ]
  },
  {
   "cell_type": "code",
   "execution_count": 140,
   "metadata": {},
   "outputs": [],
   "source": [
    "# Assuming 'LineTotal' is the column representing the line total in the merged DataFrame 'SalesOrderHeader'\n",
    "# Step 1: Aggregate the sum of 'LineTotal' for each 'SalesOrderID'\n",
    "aggregate_totals = SalesOrderDetail.groupby('SalesOrderID')['LineTotal'].sum().rename('SubTotal').reset_index()\n",
    "\n",
    "# Step 2: Merge this aggregated data back with the original 'SalesOrderHeader' DataFrame\n",
    "SalesOrderHeader = pd.merge(SalesOrderHeader, aggregate_totals, on='SalesOrderID', how='inner')\n",
    "# This will give you a DataFrame 'aggregated_sales_order' with two columns: 'SalesOrderID' and the sum of 'LineTotal' for each 'SalesOrderID'.\n"
   ]
  },
  {
   "cell_type": "code",
   "execution_count": 141,
   "metadata": {},
   "outputs": [
    {
     "data": {
      "text/html": [
       "<div>\n",
       "<style scoped>\n",
       "    .dataframe tbody tr th:only-of-type {\n",
       "        vertical-align: middle;\n",
       "    }\n",
       "\n",
       "    .dataframe tbody tr th {\n",
       "        vertical-align: top;\n",
       "    }\n",
       "\n",
       "    .dataframe thead th {\n",
       "        text-align: right;\n",
       "    }\n",
       "</style>\n",
       "<table border=\"1\" class=\"dataframe\">\n",
       "  <thead>\n",
       "    <tr style=\"text-align: right;\">\n",
       "      <th></th>\n",
       "      <th>SalesOrderID</th>\n",
       "      <th>OrderDateID</th>\n",
       "      <th>DueDateID</th>\n",
       "      <th>ShipDateID</th>\n",
       "      <th>CustomerID</th>\n",
       "      <th>ShipToAddressID</th>\n",
       "      <th>TaxAmt</th>\n",
       "      <th>Freight</th>\n",
       "      <th>OnlineOrderFlag</th>\n",
       "      <th>Status</th>\n",
       "      <th>SubTotal</th>\n",
       "    </tr>\n",
       "  </thead>\n",
       "  <tbody>\n",
       "    <tr>\n",
       "      <th>0</th>\n",
       "      <td>43659</td>\n",
       "      <td>20110531</td>\n",
       "      <td>20110612</td>\n",
       "      <td>20110607</td>\n",
       "      <td>29825</td>\n",
       "      <td>985</td>\n",
       "      <td>1971.5149</td>\n",
       "      <td>616.0984</td>\n",
       "      <td>False</td>\n",
       "      <td>5</td>\n",
       "      <td>20565.6206</td>\n",
       "    </tr>\n",
       "    <tr>\n",
       "      <th>1</th>\n",
       "      <td>43660</td>\n",
       "      <td>20110531</td>\n",
       "      <td>20110612</td>\n",
       "      <td>20110607</td>\n",
       "      <td>29672</td>\n",
       "      <td>921</td>\n",
       "      <td>124.2483</td>\n",
       "      <td>38.8276</td>\n",
       "      <td>False</td>\n",
       "      <td>5</td>\n",
       "      <td>1294.2529</td>\n",
       "    </tr>\n",
       "    <tr>\n",
       "      <th>2</th>\n",
       "      <td>43661</td>\n",
       "      <td>20110531</td>\n",
       "      <td>20110612</td>\n",
       "      <td>20110607</td>\n",
       "      <td>29734</td>\n",
       "      <td>517</td>\n",
       "      <td>3153.7696</td>\n",
       "      <td>985.5530</td>\n",
       "      <td>False</td>\n",
       "      <td>5</td>\n",
       "      <td>32726.4786</td>\n",
       "    </tr>\n",
       "    <tr>\n",
       "      <th>3</th>\n",
       "      <td>43662</td>\n",
       "      <td>20110531</td>\n",
       "      <td>20110612</td>\n",
       "      <td>20110607</td>\n",
       "      <td>29994</td>\n",
       "      <td>482</td>\n",
       "      <td>2775.1646</td>\n",
       "      <td>867.2389</td>\n",
       "      <td>False</td>\n",
       "      <td>5</td>\n",
       "      <td>28832.5289</td>\n",
       "    </tr>\n",
       "    <tr>\n",
       "      <th>4</th>\n",
       "      <td>43663</td>\n",
       "      <td>20110531</td>\n",
       "      <td>20110612</td>\n",
       "      <td>20110607</td>\n",
       "      <td>29565</td>\n",
       "      <td>1073</td>\n",
       "      <td>40.2681</td>\n",
       "      <td>12.5838</td>\n",
       "      <td>False</td>\n",
       "      <td>5</td>\n",
       "      <td>419.4589</td>\n",
       "    </tr>\n",
       "    <tr>\n",
       "      <th>...</th>\n",
       "      <td>...</td>\n",
       "      <td>...</td>\n",
       "      <td>...</td>\n",
       "      <td>...</td>\n",
       "      <td>...</td>\n",
       "      <td>...</td>\n",
       "      <td>...</td>\n",
       "      <td>...</td>\n",
       "      <td>...</td>\n",
       "      <td>...</td>\n",
       "      <td>...</td>\n",
       "    </tr>\n",
       "    <tr>\n",
       "      <th>31141</th>\n",
       "      <td>75119</td>\n",
       "      <td>20140630</td>\n",
       "      <td>20140712</td>\n",
       "      <td>20140707</td>\n",
       "      <td>11981</td>\n",
       "      <td>17649</td>\n",
       "      <td>3.3824</td>\n",
       "      <td>1.0570</td>\n",
       "      <td>True</td>\n",
       "      <td>5</td>\n",
       "      <td>42.2800</td>\n",
       "    </tr>\n",
       "    <tr>\n",
       "      <th>31142</th>\n",
       "      <td>75120</td>\n",
       "      <td>20140630</td>\n",
       "      <td>20140712</td>\n",
       "      <td>20140707</td>\n",
       "      <td>18749</td>\n",
       "      <td>28374</td>\n",
       "      <td>6.7968</td>\n",
       "      <td>2.1240</td>\n",
       "      <td>True</td>\n",
       "      <td>5</td>\n",
       "      <td>84.9600</td>\n",
       "    </tr>\n",
       "    <tr>\n",
       "      <th>31143</th>\n",
       "      <td>75121</td>\n",
       "      <td>20140630</td>\n",
       "      <td>20140712</td>\n",
       "      <td>20140707</td>\n",
       "      <td>15251</td>\n",
       "      <td>26553</td>\n",
       "      <td>5.9984</td>\n",
       "      <td>1.8745</td>\n",
       "      <td>True</td>\n",
       "      <td>5</td>\n",
       "      <td>74.9800</td>\n",
       "    </tr>\n",
       "    <tr>\n",
       "      <th>31144</th>\n",
       "      <td>75122</td>\n",
       "      <td>20140630</td>\n",
       "      <td>20140712</td>\n",
       "      <td>20140707</td>\n",
       "      <td>15868</td>\n",
       "      <td>14616</td>\n",
       "      <td>2.4776</td>\n",
       "      <td>0.7743</td>\n",
       "      <td>True</td>\n",
       "      <td>5</td>\n",
       "      <td>30.9700</td>\n",
       "    </tr>\n",
       "    <tr>\n",
       "      <th>31145</th>\n",
       "      <td>75123</td>\n",
       "      <td>20140630</td>\n",
       "      <td>20140712</td>\n",
       "      <td>20140707</td>\n",
       "      <td>18759</td>\n",
       "      <td>14024</td>\n",
       "      <td>15.1976</td>\n",
       "      <td>4.7493</td>\n",
       "      <td>True</td>\n",
       "      <td>5</td>\n",
       "      <td>189.9700</td>\n",
       "    </tr>\n",
       "  </tbody>\n",
       "</table>\n",
       "<p>31146 rows × 11 columns</p>\n",
       "</div>"
      ],
      "text/plain": [
       "       SalesOrderID  OrderDateID  DueDateID  ShipDateID  CustomerID  \\\n",
       "0             43659     20110531   20110612    20110607       29825   \n",
       "1             43660     20110531   20110612    20110607       29672   \n",
       "2             43661     20110531   20110612    20110607       29734   \n",
       "3             43662     20110531   20110612    20110607       29994   \n",
       "4             43663     20110531   20110612    20110607       29565   \n",
       "...             ...          ...        ...         ...         ...   \n",
       "31141         75119     20140630   20140712    20140707       11981   \n",
       "31142         75120     20140630   20140712    20140707       18749   \n",
       "31143         75121     20140630   20140712    20140707       15251   \n",
       "31144         75122     20140630   20140712    20140707       15868   \n",
       "31145         75123     20140630   20140712    20140707       18759   \n",
       "\n",
       "       ShipToAddressID     TaxAmt   Freight  OnlineOrderFlag  Status  \\\n",
       "0                  985  1971.5149  616.0984            False       5   \n",
       "1                  921   124.2483   38.8276            False       5   \n",
       "2                  517  3153.7696  985.5530            False       5   \n",
       "3                  482  2775.1646  867.2389            False       5   \n",
       "4                 1073    40.2681   12.5838            False       5   \n",
       "...                ...        ...       ...              ...     ...   \n",
       "31141            17649     3.3824    1.0570             True       5   \n",
       "31142            28374     6.7968    2.1240             True       5   \n",
       "31143            26553     5.9984    1.8745             True       5   \n",
       "31144            14616     2.4776    0.7743             True       5   \n",
       "31145            14024    15.1976    4.7493             True       5   \n",
       "\n",
       "         SubTotal  \n",
       "0      20565.6206  \n",
       "1       1294.2529  \n",
       "2      32726.4786  \n",
       "3      28832.5289  \n",
       "4        419.4589  \n",
       "...           ...  \n",
       "31141     42.2800  \n",
       "31142     84.9600  \n",
       "31143     74.9800  \n",
       "31144     30.9700  \n",
       "31145    189.9700  \n",
       "\n",
       "[31146 rows x 11 columns]"
      ]
     },
     "execution_count": 141,
     "metadata": {},
     "output_type": "execute_result"
    }
   ],
   "source": [
    "SalesOrderHeader"
   ]
  },
  {
   "cell_type": "code",
   "execution_count": 142,
   "metadata": {},
   "outputs": [
    {
     "data": {
      "text/html": [
       "<div>\n",
       "<style scoped>\n",
       "    .dataframe tbody tr th:only-of-type {\n",
       "        vertical-align: middle;\n",
       "    }\n",
       "\n",
       "    .dataframe tbody tr th {\n",
       "        vertical-align: top;\n",
       "    }\n",
       "\n",
       "    .dataframe thead th {\n",
       "        text-align: right;\n",
       "    }\n",
       "</style>\n",
       "<table border=\"1\" class=\"dataframe\">\n",
       "  <thead>\n",
       "    <tr style=\"text-align: right;\">\n",
       "      <th></th>\n",
       "      <th>SalesOrderID</th>\n",
       "      <th>OrderDateID</th>\n",
       "      <th>DueDateID</th>\n",
       "      <th>ShipDateID</th>\n",
       "      <th>CustomerID</th>\n",
       "      <th>ShipToAddressID</th>\n",
       "      <th>TaxAmt</th>\n",
       "      <th>Freight</th>\n",
       "      <th>OnlineOrderFlag</th>\n",
       "      <th>Status</th>\n",
       "      <th>SubTotal</th>\n",
       "    </tr>\n",
       "  </thead>\n",
       "  <tbody>\n",
       "  </tbody>\n",
       "</table>\n",
       "</div>"
      ],
      "text/plain": [
       "Empty DataFrame\n",
       "Columns: [SalesOrderID, OrderDateID, DueDateID, ShipDateID, CustomerID, ShipToAddressID, TaxAmt, Freight, OnlineOrderFlag, Status, SubTotal]\n",
       "Index: []"
      ]
     },
     "execution_count": 142,
     "metadata": {},
     "output_type": "execute_result"
    }
   ],
   "source": [
    "SalesOrderHeader[SalesOrderHeader['SalesOrderID']==43676]"
   ]
  },
  {
   "cell_type": "code",
   "execution_count": 143,
   "metadata": {},
   "outputs": [],
   "source": [
    "selected_columns = ['SalesOrderID', 'OrderDateID', 'DueDateID','ShipDateID','CustomerID','ShipToAddressID','SubTotal','TaxAmt','Freight','OnlineOrderFlag']\n",
    "SalesOrderHeader = SalesOrderHeader.loc[:, selected_columns]"
   ]
  },
  {
   "cell_type": "code",
   "execution_count": 144,
   "metadata": {},
   "outputs": [],
   "source": [
    "SalesOrderHeader.to_csv(os.path.join(output_folder_path,'OrderDim.csv'),index=False)"
   ]
  },
  {
   "cell_type": "code",
   "execution_count": null,
   "metadata": {},
   "outputs": [],
   "source": []
  },
  {
   "cell_type": "code",
   "execution_count": null,
   "metadata": {},
   "outputs": [],
   "source": []
  }
 ],
 "metadata": {
  "kernelspec": {
   "display_name": "tfodj",
   "language": "python",
   "name": "tfodj"
  },
  "language_info": {
   "codemirror_mode": {
    "name": "ipython",
    "version": 3
   },
   "file_extension": ".py",
   "mimetype": "text/x-python",
   "name": "python",
   "nbconvert_exporter": "python",
   "pygments_lexer": "ipython3",
   "version": "3.9.13"
  }
 },
 "nbformat": 4,
 "nbformat_minor": 2
}
