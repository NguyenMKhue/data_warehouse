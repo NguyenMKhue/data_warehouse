{
 "cells": [
  {
   "cell_type": "code",
   "execution_count": 542,
   "metadata": {},
   "outputs": [],
   "source": [
    "import pandas as pd\n",
    "import matplotlib.pyplot as plt\n",
    "import os"
   ]
  },
  {
   "cell_type": "markdown",
   "metadata": {},
   "source": [
    "*Importing the tables*"
   ]
  },
  {
   "cell_type": "code",
   "execution_count": 543,
   "metadata": {},
   "outputs": [],
   "source": [
    "Address = pd.read_csv('/Users/khuenguyen/Desktop/data_warehouse/tables/Address.csv')\n",
    "CountryRegion = pd.read_csv('/Users/khuenguyen/Desktop/data_warehouse/tables/CountryRegion.csv')\n",
    "Product = pd.read_csv('/Users/khuenguyen/Desktop/data_warehouse/tables/Product.csv')\n",
    "ProductSubcategory = pd.read_csv('/Users/khuenguyen/Desktop/data_warehouse/tables/ProductSubcategory.csv')\n",
    "SalesOrderDetail = pd.read_csv('/Users/khuenguyen/Desktop/data_warehouse/tables/SalesOrderDetail.csv')\n",
    "SalesOrderHeader = pd.read_csv('/Users/khuenguyen/Desktop/data_warehouse/tables/SalesOrderHeader.csv')\n",
    "StateProvince = pd.read_csv('/Users/khuenguyen/Desktop/data_warehouse/tables/StateProvince.csv')\n",
    "ProductCategory = pd.read_csv('/Users/khuenguyen/Desktop/data_warehouse/tables/ProductCategory.csv')\n",
    "ProductUnitPrice = pd.read_csv('/Users/khuenguyen/Desktop/data_warehouse/tables/Product_UnitPrice.csv')"
   ]
  },
  {
   "cell_type": "code",
   "execution_count": 544,
   "metadata": {},
   "outputs": [
    {
     "name": "stdout",
     "output_type": "stream",
     "text": [
      "/Users/khuenguyen/Desktop/data_warehouse/transformed_tables\n"
     ]
    }
   ],
   "source": [
    "current_directory = os.getcwd()\n",
    "output_folder_path = os.path.join(current_directory, \"transformed_tables\")\n",
    "if not os.path.exists(output_folder_path):\n",
    "    os.makedirs(output_folder_path)\n",
    "print(output_folder_path)"
   ]
  },
  {
   "cell_type": "markdown",
   "metadata": {},
   "source": [
    "**1. Address**"
   ]
  },
  {
   "cell_type": "code",
   "execution_count": 545,
   "metadata": {},
   "outputs": [
    {
     "name": "stdout",
     "output_type": "stream",
     "text": [
      "<class 'pandas.core.frame.DataFrame'>\n",
      "RangeIndex: 1000 entries, 0 to 999\n",
      "Data columns (total 9 columns):\n",
      " #   Column           Non-Null Count  Dtype \n",
      "---  ------           --------------  ----- \n",
      " 0   AddressID        1000 non-null   int64 \n",
      " 1   AddressLine1     1000 non-null   object\n",
      " 2   AddressLine2     48 non-null     object\n",
      " 3   City             1000 non-null   object\n",
      " 4   StateProvinceID  1000 non-null   int64 \n",
      " 5   PostalCode       1000 non-null   object\n",
      " 6   SpatialLocation  1000 non-null   object\n",
      " 7   rowguid          1000 non-null   object\n",
      " 8   ModifiedDate     1000 non-null   object\n",
      "dtypes: int64(2), object(7)\n",
      "memory usage: 70.4+ KB\n"
     ]
    }
   ],
   "source": [
    "Address.info()"
   ]
  },
  {
   "cell_type": "markdown",
   "metadata": {},
   "source": [
    "Remove unecessary columns"
   ]
  },
  {
   "cell_type": "code",
   "execution_count": 546,
   "metadata": {},
   "outputs": [],
   "source": [
    "Address = Address.drop(columns=['SpatialLocation','rowguid','ModifiedDate'])"
   ]
  },
  {
   "cell_type": "code",
   "execution_count": 547,
   "metadata": {},
   "outputs": [],
   "source": [
    "object_columns = Address.select_dtypes(include='object').columns\n",
    "numeric_columns = Address.select_dtypes(include='int64').columns"
   ]
  },
  {
   "cell_type": "markdown",
   "metadata": {},
   "source": [
    "Check duplicated values"
   ]
  },
  {
   "cell_type": "code",
   "execution_count": 548,
   "metadata": {},
   "outputs": [
    {
     "name": "stdout",
     "output_type": "stream",
     "text": [
      "0\n"
     ]
    }
   ],
   "source": [
    "print(Address.duplicated().sum())"
   ]
  },
  {
   "cell_type": "markdown",
   "metadata": {},
   "source": [
    "Check null values"
   ]
  },
  {
   "cell_type": "code",
   "execution_count": 549,
   "metadata": {},
   "outputs": [
    {
     "data": {
      "text/plain": [
       "AddressID            0\n",
       "AddressLine1         0\n",
       "AddressLine2       952\n",
       "City                 0\n",
       "StateProvinceID      0\n",
       "PostalCode           0\n",
       "dtype: int64"
      ]
     },
     "execution_count": 549,
     "metadata": {},
     "output_type": "execute_result"
    }
   ],
   "source": [
    "Address.isnull().sum()"
   ]
  },
  {
   "cell_type": "markdown",
   "metadata": {},
   "source": [
    "Because \"AddressLine2\" is just a complement address used to support \"AddressLine1\" (apartment number, block number, etc.), we can accept null value in this column"
   ]
  },
  {
   "cell_type": "code",
   "execution_count": 550,
   "metadata": {},
   "outputs": [
    {
     "name": "stdout",
     "output_type": "stream",
     "text": [
      "<class 'pandas.core.frame.DataFrame'>\n",
      "RangeIndex: 1000 entries, 0 to 999\n",
      "Data columns (total 6 columns):\n",
      " #   Column           Non-Null Count  Dtype \n",
      "---  ------           --------------  ----- \n",
      " 0   AddressID        1000 non-null   int64 \n",
      " 1   AddressLine1     1000 non-null   object\n",
      " 2   AddressLine2     48 non-null     object\n",
      " 3   City             1000 non-null   object\n",
      " 4   StateProvinceID  1000 non-null   int64 \n",
      " 5   PostalCode       1000 non-null   object\n",
      "dtypes: int64(2), object(4)\n",
      "memory usage: 47.0+ KB\n"
     ]
    }
   ],
   "source": [
    "Address.info()"
   ]
  },
  {
   "cell_type": "code",
   "execution_count": 551,
   "metadata": {},
   "outputs": [
    {
     "data": {
      "text/html": [
       "<div>\n",
       "<style scoped>\n",
       "    .dataframe tbody tr th:only-of-type {\n",
       "        vertical-align: middle;\n",
       "    }\n",
       "\n",
       "    .dataframe tbody tr th {\n",
       "        vertical-align: top;\n",
       "    }\n",
       "\n",
       "    .dataframe thead th {\n",
       "        text-align: right;\n",
       "    }\n",
       "</style>\n",
       "<table border=\"1\" class=\"dataframe\">\n",
       "  <thead>\n",
       "    <tr style=\"text-align: right;\">\n",
       "      <th></th>\n",
       "      <th>AddressLine1</th>\n",
       "      <th>AddressLine2</th>\n",
       "      <th>City</th>\n",
       "      <th>PostalCode</th>\n",
       "    </tr>\n",
       "  </thead>\n",
       "  <tbody>\n",
       "    <tr>\n",
       "      <th>count</th>\n",
       "      <td>1000</td>\n",
       "      <td>48</td>\n",
       "      <td>1000</td>\n",
       "      <td>1000</td>\n",
       "    </tr>\n",
       "    <tr>\n",
       "      <th>unique</th>\n",
       "      <td>989</td>\n",
       "      <td>45</td>\n",
       "      <td>421</td>\n",
       "      <td>480</td>\n",
       "    </tr>\n",
       "    <tr>\n",
       "      <th>top</th>\n",
       "      <td>Horizon Outlet Center</td>\n",
       "      <td># 14</td>\n",
       "      <td>Seattle</td>\n",
       "      <td>98104</td>\n",
       "    </tr>\n",
       "    <tr>\n",
       "      <th>freq</th>\n",
       "      <td>3</td>\n",
       "      <td>2</td>\n",
       "      <td>45</td>\n",
       "      <td>45</td>\n",
       "    </tr>\n",
       "  </tbody>\n",
       "</table>\n",
       "</div>"
      ],
      "text/plain": [
       "                 AddressLine1 AddressLine2     City PostalCode\n",
       "count                    1000           48     1000       1000\n",
       "unique                    989           45      421        480\n",
       "top     Horizon Outlet Center         # 14  Seattle      98104\n",
       "freq                        3            2       45         45"
      ]
     },
     "execution_count": 551,
     "metadata": {},
     "output_type": "execute_result"
    }
   ],
   "source": [
    "Address.describe(include=['object'])"
   ]
  },
  {
   "cell_type": "code",
   "execution_count": 552,
   "metadata": {},
   "outputs": [],
   "source": [
    "Address.to_csv(os.path.join(output_folder_path,'AddressLineDim.csv'),index=False)"
   ]
  },
  {
   "cell_type": "markdown",
   "metadata": {},
   "source": [
    "**2.StateProvice**\n"
   ]
  },
  {
   "cell_type": "code",
   "execution_count": 553,
   "metadata": {},
   "outputs": [
    {
     "name": "stdout",
     "output_type": "stream",
     "text": [
      "<class 'pandas.core.frame.DataFrame'>\n",
      "RangeIndex: 181 entries, 0 to 180\n",
      "Data columns (total 8 columns):\n",
      " #   Column                   Non-Null Count  Dtype \n",
      "---  ------                   --------------  ----- \n",
      " 0   StateProvinceID          181 non-null    int64 \n",
      " 1   StateProvinceCode        181 non-null    object\n",
      " 2   CountryRegionCode        181 non-null    object\n",
      " 3   IsOnlyStateProvinceFlag  181 non-null    int64 \n",
      " 4   Name                     181 non-null    object\n",
      " 5   TerritoryID              181 non-null    int64 \n",
      " 6   rowguid                  181 non-null    object\n",
      " 7   ModifiedDate             181 non-null    object\n",
      "dtypes: int64(3), object(5)\n",
      "memory usage: 11.4+ KB\n"
     ]
    }
   ],
   "source": [
    "StateProvince.info()"
   ]
  },
  {
   "cell_type": "markdown",
   "metadata": {},
   "source": [
    "Remove unwanted columns"
   ]
  },
  {
   "cell_type": "code",
   "execution_count": 554,
   "metadata": {},
   "outputs": [],
   "source": [
    "StateProvince = StateProvince.drop(columns=['IsOnlyStateProvinceFlag','rowguid','ModifiedDate'])"
   ]
  },
  {
   "cell_type": "markdown",
   "metadata": {},
   "source": [
    "Check duplicated"
   ]
  },
  {
   "cell_type": "code",
   "execution_count": 555,
   "metadata": {},
   "outputs": [
    {
     "name": "stdout",
     "output_type": "stream",
     "text": [
      "0\n"
     ]
    }
   ],
   "source": [
    "print(StateProvince.duplicated().sum())"
   ]
  },
  {
   "cell_type": "markdown",
   "metadata": {},
   "source": [
    "Check null values"
   ]
  },
  {
   "cell_type": "code",
   "execution_count": 556,
   "metadata": {},
   "outputs": [
    {
     "data": {
      "text/plain": [
       "StateProvinceID      0\n",
       "StateProvinceCode    0\n",
       "CountryRegionCode    0\n",
       "Name                 0\n",
       "TerritoryID          0\n",
       "dtype: int64"
      ]
     },
     "execution_count": 556,
     "metadata": {},
     "output_type": "execute_result"
    }
   ],
   "source": [
    "StateProvince.isnull().sum()"
   ]
  },
  {
   "cell_type": "markdown",
   "metadata": {},
   "source": [
    "Convert CountryRegionCode into CountryRegionName"
   ]
  },
  {
   "cell_type": "code",
   "execution_count": 557,
   "metadata": {},
   "outputs": [],
   "source": [
    "StateProvince['CountryRegionCode'] = StateProvince['CountryRegionCode'].map(CountryRegion.set_index('CountryRegionCode')['Name'])"
   ]
  },
  {
   "cell_type": "code",
   "execution_count": 558,
   "metadata": {},
   "outputs": [],
   "source": [
    "StateProvince = StateProvince.rename(columns={'CountryRegionCode': 'CountryRegionName'})"
   ]
  },
  {
   "cell_type": "code",
   "execution_count": 559,
   "metadata": {},
   "outputs": [
    {
     "name": "stdout",
     "output_type": "stream",
     "text": [
      "<class 'pandas.core.frame.DataFrame'>\n",
      "RangeIndex: 181 entries, 0 to 180\n",
      "Data columns (total 5 columns):\n",
      " #   Column             Non-Null Count  Dtype \n",
      "---  ------             --------------  ----- \n",
      " 0   StateProvinceID    181 non-null    int64 \n",
      " 1   StateProvinceCode  181 non-null    object\n",
      " 2   CountryRegionName  181 non-null    object\n",
      " 3   Name               181 non-null    object\n",
      " 4   TerritoryID        181 non-null    int64 \n",
      "dtypes: int64(2), object(3)\n",
      "memory usage: 7.2+ KB\n"
     ]
    }
   ],
   "source": [
    "StateProvince.info()"
   ]
  },
  {
   "cell_type": "code",
   "execution_count": 560,
   "metadata": {},
   "outputs": [
    {
     "data": {
      "text/html": [
       "<div>\n",
       "<style scoped>\n",
       "    .dataframe tbody tr th:only-of-type {\n",
       "        vertical-align: middle;\n",
       "    }\n",
       "\n",
       "    .dataframe tbody tr th {\n",
       "        vertical-align: top;\n",
       "    }\n",
       "\n",
       "    .dataframe thead th {\n",
       "        text-align: right;\n",
       "    }\n",
       "</style>\n",
       "<table border=\"1\" class=\"dataframe\">\n",
       "  <thead>\n",
       "    <tr style=\"text-align: right;\">\n",
       "      <th></th>\n",
       "      <th>StateProvinceID</th>\n",
       "      <th>StateProvinceCode</th>\n",
       "      <th>CountryRegionName</th>\n",
       "      <th>Name</th>\n",
       "      <th>TerritoryID</th>\n",
       "    </tr>\n",
       "  </thead>\n",
       "  <tbody>\n",
       "    <tr>\n",
       "      <th>0</th>\n",
       "      <td>1</td>\n",
       "      <td>AB</td>\n",
       "      <td>Canada</td>\n",
       "      <td>Alberta</td>\n",
       "      <td>6</td>\n",
       "    </tr>\n",
       "    <tr>\n",
       "      <th>1</th>\n",
       "      <td>2</td>\n",
       "      <td>AK</td>\n",
       "      <td>United States</td>\n",
       "      <td>Alaska</td>\n",
       "      <td>1</td>\n",
       "    </tr>\n",
       "    <tr>\n",
       "      <th>2</th>\n",
       "      <td>3</td>\n",
       "      <td>AL</td>\n",
       "      <td>United States</td>\n",
       "      <td>Alabama</td>\n",
       "      <td>5</td>\n",
       "    </tr>\n",
       "    <tr>\n",
       "      <th>3</th>\n",
       "      <td>4</td>\n",
       "      <td>AR</td>\n",
       "      <td>United States</td>\n",
       "      <td>Arkansas</td>\n",
       "      <td>3</td>\n",
       "    </tr>\n",
       "    <tr>\n",
       "      <th>4</th>\n",
       "      <td>5</td>\n",
       "      <td>AS</td>\n",
       "      <td>American Samoa</td>\n",
       "      <td>American Samoa</td>\n",
       "      <td>1</td>\n",
       "    </tr>\n",
       "  </tbody>\n",
       "</table>\n",
       "</div>"
      ],
      "text/plain": [
       "   StateProvinceID StateProvinceCode CountryRegionName            Name  \\\n",
       "0                1               AB             Canada         Alberta   \n",
       "1                2               AK      United States          Alaska   \n",
       "2                3               AL      United States         Alabama   \n",
       "3                4               AR      United States        Arkansas   \n",
       "4                5               AS     American Samoa  American Samoa   \n",
       "\n",
       "   TerritoryID  \n",
       "0            6  \n",
       "1            1  \n",
       "2            5  \n",
       "3            3  \n",
       "4            1  "
      ]
     },
     "execution_count": 560,
     "metadata": {},
     "output_type": "execute_result"
    }
   ],
   "source": [
    "StateProvince.head()"
   ]
  },
  {
   "cell_type": "code",
   "execution_count": 561,
   "metadata": {},
   "outputs": [],
   "source": [
    "StateProvince.to_csv(os.path.join(output_folder_path,'StateProvinceDim.csv'),index=False)"
   ]
  },
  {
   "cell_type": "markdown",
   "metadata": {},
   "source": [
    "**3.Product**"
   ]
  },
  {
   "cell_type": "code",
   "execution_count": 562,
   "metadata": {},
   "outputs": [
    {
     "name": "stdout",
     "output_type": "stream",
     "text": [
      "<class 'pandas.core.frame.DataFrame'>\n",
      "RangeIndex: 504 entries, 0 to 503\n",
      "Data columns (total 25 columns):\n",
      " #   Column                 Non-Null Count  Dtype  \n",
      "---  ------                 --------------  -----  \n",
      " 0   ProductID              504 non-null    int64  \n",
      " 1   Name                   504 non-null    object \n",
      " 2   ProductNumber          504 non-null    object \n",
      " 3   MakeFlag               504 non-null    int64  \n",
      " 4   FinishedGoodsFlag      504 non-null    int64  \n",
      " 5   Color                  256 non-null    object \n",
      " 6   SafetyStockLevel       504 non-null    int64  \n",
      " 7   ReorderPoint           504 non-null    int64  \n",
      " 8   StandardCost           504 non-null    object \n",
      " 9   ListPrice              504 non-null    object \n",
      " 10  Size                   211 non-null    object \n",
      " 11  SizeUnitMeasureCode    176 non-null    object \n",
      " 12  WeightUnitMeasureCode  205 non-null    object \n",
      " 13  Weight                 205 non-null    float64\n",
      " 14  DaysToManufacture      504 non-null    int64  \n",
      " 15  ProductLine            278 non-null    object \n",
      " 16  Class                  247 non-null    object \n",
      " 17  Style                  211 non-null    object \n",
      " 18  ProductSubcategoryID   295 non-null    float64\n",
      " 19  ProductModelID         295 non-null    float64\n",
      " 20  SellStartDate          504 non-null    object \n",
      " 21  SellEndDate            98 non-null     object \n",
      " 22  DiscontinuedDate       0 non-null      float64\n",
      " 23  rowguid                504 non-null    object \n",
      " 24  ModifiedDate           504 non-null    object \n",
      "dtypes: float64(4), int64(6), object(15)\n",
      "memory usage: 98.6+ KB\n"
     ]
    }
   ],
   "source": [
    "Product.info()"
   ]
  },
  {
   "cell_type": "markdown",
   "metadata": {},
   "source": [
    "Remove unwanted columns"
   ]
  },
  {
   "cell_type": "code",
   "execution_count": 563,
   "metadata": {},
   "outputs": [],
   "source": [
    "selected_columns = ['ProductID', 'Name', 'Color', 'ProductSubcategoryID', 'DaysToManufacture']\n",
    "Product = Product.loc[:, selected_columns]\n"
   ]
  },
  {
   "cell_type": "markdown",
   "metadata": {},
   "source": [
    "Check duplicated values"
   ]
  },
  {
   "cell_type": "code",
   "execution_count": 564,
   "metadata": {},
   "outputs": [
    {
     "name": "stdout",
     "output_type": "stream",
     "text": [
      "0\n"
     ]
    }
   ],
   "source": [
    "print(Product.duplicated().sum())"
   ]
  },
  {
   "cell_type": "markdown",
   "metadata": {},
   "source": [
    "Check null values"
   ]
  },
  {
   "cell_type": "code",
   "execution_count": 565,
   "metadata": {},
   "outputs": [
    {
     "data": {
      "text/plain": [
       "ProductID                 0\n",
       "Name                      0\n",
       "Color                   248\n",
       "ProductSubcategoryID    209\n",
       "DaysToManufacture         0\n",
       "dtype: int64"
      ]
     },
     "execution_count": 565,
     "metadata": {},
     "output_type": "execute_result"
    }
   ],
   "source": [
    "Product.isnull().sum()"
   ]
  },
  {
   "cell_type": "markdown",
   "metadata": {},
   "source": [
    "Some products doesn't belong to any subcategory so its \"ProductSubcategoryID\" is null, we will keep that \n",
    "For color, we will impute using the most frequently appeared color"
   ]
  },
  {
   "cell_type": "code",
   "execution_count": 566,
   "metadata": {},
   "outputs": [
    {
     "name": "stdout",
     "output_type": "stream",
     "text": [
      "Black\n"
     ]
    }
   ],
   "source": [
    "most_frequent_color = Product['Color'].mode()[0]\n",
    "print(most_frequent_color)"
   ]
  },
  {
   "cell_type": "code",
   "execution_count": 567,
   "metadata": {},
   "outputs": [
    {
     "data": {
      "text/html": [
       "<div>\n",
       "<style scoped>\n",
       "    .dataframe tbody tr th:only-of-type {\n",
       "        vertical-align: middle;\n",
       "    }\n",
       "\n",
       "    .dataframe tbody tr th {\n",
       "        vertical-align: top;\n",
       "    }\n",
       "\n",
       "    .dataframe thead th {\n",
       "        text-align: right;\n",
       "    }\n",
       "</style>\n",
       "<table border=\"1\" class=\"dataframe\">\n",
       "  <thead>\n",
       "    <tr style=\"text-align: right;\">\n",
       "      <th></th>\n",
       "      <th>ProductID</th>\n",
       "      <th>Name</th>\n",
       "      <th>Color</th>\n",
       "      <th>ProductSubcategoryID</th>\n",
       "      <th>DaysToManufacture</th>\n",
       "    </tr>\n",
       "  </thead>\n",
       "  <tbody>\n",
       "    <tr>\n",
       "      <th>5</th>\n",
       "      <td>317</td>\n",
       "      <td>LL Crankarm</td>\n",
       "      <td>Black</td>\n",
       "      <td>NaN</td>\n",
       "      <td>0</td>\n",
       "    </tr>\n",
       "    <tr>\n",
       "      <th>6</th>\n",
       "      <td>318</td>\n",
       "      <td>ML Crankarm</td>\n",
       "      <td>Black</td>\n",
       "      <td>NaN</td>\n",
       "      <td>0</td>\n",
       "    </tr>\n",
       "    <tr>\n",
       "      <th>7</th>\n",
       "      <td>319</td>\n",
       "      <td>HL Crankarm</td>\n",
       "      <td>Black</td>\n",
       "      <td>NaN</td>\n",
       "      <td>0</td>\n",
       "    </tr>\n",
       "    <tr>\n",
       "      <th>10</th>\n",
       "      <td>322</td>\n",
       "      <td>Chainring</td>\n",
       "      <td>Black</td>\n",
       "      <td>NaN</td>\n",
       "      <td>0</td>\n",
       "    </tr>\n",
       "    <tr>\n",
       "      <th>209</th>\n",
       "      <td>680</td>\n",
       "      <td>HL Road Frame - Black, 58</td>\n",
       "      <td>Black</td>\n",
       "      <td>14.0</td>\n",
       "      <td>1</td>\n",
       "    </tr>\n",
       "    <tr>\n",
       "      <th>...</th>\n",
       "      <td>...</td>\n",
       "      <td>...</td>\n",
       "      <td>...</td>\n",
       "      <td>...</td>\n",
       "      <td>...</td>\n",
       "    </tr>\n",
       "    <tr>\n",
       "      <th>496</th>\n",
       "      <td>992</td>\n",
       "      <td>Mountain-500 Black, 48</td>\n",
       "      <td>Black</td>\n",
       "      <td>1.0</td>\n",
       "      <td>4</td>\n",
       "    </tr>\n",
       "    <tr>\n",
       "      <th>497</th>\n",
       "      <td>993</td>\n",
       "      <td>Mountain-500 Black, 52</td>\n",
       "      <td>Black</td>\n",
       "      <td>1.0</td>\n",
       "      <td>4</td>\n",
       "    </tr>\n",
       "    <tr>\n",
       "      <th>501</th>\n",
       "      <td>997</td>\n",
       "      <td>Road-750 Black, 44</td>\n",
       "      <td>Black</td>\n",
       "      <td>2.0</td>\n",
       "      <td>4</td>\n",
       "    </tr>\n",
       "    <tr>\n",
       "      <th>502</th>\n",
       "      <td>998</td>\n",
       "      <td>Road-750 Black, 48</td>\n",
       "      <td>Black</td>\n",
       "      <td>2.0</td>\n",
       "      <td>4</td>\n",
       "    </tr>\n",
       "    <tr>\n",
       "      <th>503</th>\n",
       "      <td>999</td>\n",
       "      <td>Road-750 Black, 52</td>\n",
       "      <td>Black</td>\n",
       "      <td>2.0</td>\n",
       "      <td>4</td>\n",
       "    </tr>\n",
       "  </tbody>\n",
       "</table>\n",
       "<p>93 rows × 5 columns</p>\n",
       "</div>"
      ],
      "text/plain": [
       "     ProductID                       Name  Color  ProductSubcategoryID  \\\n",
       "5          317                LL Crankarm  Black                   NaN   \n",
       "6          318                ML Crankarm  Black                   NaN   \n",
       "7          319                HL Crankarm  Black                   NaN   \n",
       "10         322                  Chainring  Black                   NaN   \n",
       "209        680  HL Road Frame - Black, 58  Black                  14.0   \n",
       "..         ...                        ...    ...                   ...   \n",
       "496        992     Mountain-500 Black, 48  Black                   1.0   \n",
       "497        993     Mountain-500 Black, 52  Black                   1.0   \n",
       "501        997         Road-750 Black, 44  Black                   2.0   \n",
       "502        998         Road-750 Black, 48  Black                   2.0   \n",
       "503        999         Road-750 Black, 52  Black                   2.0   \n",
       "\n",
       "     DaysToManufacture  \n",
       "5                    0  \n",
       "6                    0  \n",
       "7                    0  \n",
       "10                   0  \n",
       "209                  1  \n",
       "..                 ...  \n",
       "496                  4  \n",
       "497                  4  \n",
       "501                  4  \n",
       "502                  4  \n",
       "503                  4  \n",
       "\n",
       "[93 rows x 5 columns]"
      ]
     },
     "execution_count": 567,
     "metadata": {},
     "output_type": "execute_result"
    }
   ],
   "source": [
    "Product[Product['Color']=='Black']"
   ]
  },
  {
   "cell_type": "code",
   "execution_count": 568,
   "metadata": {},
   "outputs": [
    {
     "name": "stdout",
     "output_type": "stream",
     "text": [
      "<class 'pandas.core.frame.DataFrame'>\n",
      "RangeIndex: 504 entries, 0 to 503\n",
      "Data columns (total 5 columns):\n",
      " #   Column                Non-Null Count  Dtype  \n",
      "---  ------                --------------  -----  \n",
      " 0   ProductID             504 non-null    int64  \n",
      " 1   Name                  504 non-null    object \n",
      " 2   Color                 256 non-null    object \n",
      " 3   ProductSubcategoryID  295 non-null    float64\n",
      " 4   DaysToManufacture     504 non-null    int64  \n",
      "dtypes: float64(1), int64(2), object(2)\n",
      "memory usage: 19.8+ KB\n"
     ]
    }
   ],
   "source": [
    "Product.info()"
   ]
  },
  {
   "cell_type": "markdown",
   "metadata": {},
   "source": [
    "As we can see, black color exist in 93 rows in all 256 non null colors, which is a significant number of appearance. For that reason, we are going to impute those null value using most frequently appeared color - Black"
   ]
  },
  {
   "cell_type": "code",
   "execution_count": 569,
   "metadata": {},
   "outputs": [],
   "source": [
    "Product['Color'] = Product['Color'].fillna(most_frequent_color)"
   ]
  },
  {
   "cell_type": "code",
   "execution_count": 570,
   "metadata": {},
   "outputs": [],
   "source": [
    "Product.to_csv(os.path.join(output_folder_path,'ProductDim.csv'),index=False)"
   ]
  },
  {
   "cell_type": "markdown",
   "metadata": {},
   "source": [
    "**4.ProductSubcategory**"
   ]
  },
  {
   "cell_type": "code",
   "execution_count": 571,
   "metadata": {},
   "outputs": [
    {
     "name": "stdout",
     "output_type": "stream",
     "text": [
      "<class 'pandas.core.frame.DataFrame'>\n",
      "RangeIndex: 37 entries, 0 to 36\n",
      "Data columns (total 5 columns):\n",
      " #   Column                Non-Null Count  Dtype \n",
      "---  ------                --------------  ----- \n",
      " 0   ProductSubcategoryID  37 non-null     int64 \n",
      " 1   ProductCategoryID     37 non-null     int64 \n",
      " 2   Name                  37 non-null     object\n",
      " 3   rowguid               37 non-null     object\n",
      " 4   ModifiedDate          37 non-null     object\n",
      "dtypes: int64(2), object(3)\n",
      "memory usage: 1.6+ KB\n"
     ]
    }
   ],
   "source": [
    "ProductSubcategory.info()"
   ]
  },
  {
   "cell_type": "code",
   "execution_count": 572,
   "metadata": {},
   "outputs": [
    {
     "data": {
      "text/html": [
       "<div>\n",
       "<style scoped>\n",
       "    .dataframe tbody tr th:only-of-type {\n",
       "        vertical-align: middle;\n",
       "    }\n",
       "\n",
       "    .dataframe tbody tr th {\n",
       "        vertical-align: top;\n",
       "    }\n",
       "\n",
       "    .dataframe thead th {\n",
       "        text-align: right;\n",
       "    }\n",
       "</style>\n",
       "<table border=\"1\" class=\"dataframe\">\n",
       "  <thead>\n",
       "    <tr style=\"text-align: right;\">\n",
       "      <th></th>\n",
       "      <th>ProductSubcategoryID</th>\n",
       "      <th>ProductCategoryID</th>\n",
       "      <th>Name</th>\n",
       "      <th>rowguid</th>\n",
       "      <th>ModifiedDate</th>\n",
       "    </tr>\n",
       "  </thead>\n",
       "  <tbody>\n",
       "    <tr>\n",
       "      <th>0</th>\n",
       "      <td>1</td>\n",
       "      <td>1</td>\n",
       "      <td>Mountain Bikes</td>\n",
       "      <td>2d364ade-264a-433c-b092-4fcbf3804e01</td>\n",
       "      <td>2008-04-30 00:00:00.000</td>\n",
       "    </tr>\n",
       "    <tr>\n",
       "      <th>1</th>\n",
       "      <td>2</td>\n",
       "      <td>1</td>\n",
       "      <td>Road Bikes</td>\n",
       "      <td>000310c0-bcc8-42c4-b0c3-45ae611af06b</td>\n",
       "      <td>2008-04-30 00:00:00.000</td>\n",
       "    </tr>\n",
       "    <tr>\n",
       "      <th>2</th>\n",
       "      <td>3</td>\n",
       "      <td>1</td>\n",
       "      <td>Touring Bikes</td>\n",
       "      <td>02c5061d-ecdc-4274-b5f1-e91d76bc3f37</td>\n",
       "      <td>2008-04-30 00:00:00.000</td>\n",
       "    </tr>\n",
       "    <tr>\n",
       "      <th>3</th>\n",
       "      <td>4</td>\n",
       "      <td>2</td>\n",
       "      <td>Handlebars</td>\n",
       "      <td>3ef2c725-7135-4c85-9ae6-ae9a3bdd9283</td>\n",
       "      <td>2008-04-30 00:00:00.000</td>\n",
       "    </tr>\n",
       "    <tr>\n",
       "      <th>4</th>\n",
       "      <td>5</td>\n",
       "      <td>2</td>\n",
       "      <td>Bottom Brackets</td>\n",
       "      <td>a9e54089-8a1e-4cf5-8646-e3801f685934</td>\n",
       "      <td>2008-04-30 00:00:00.000</td>\n",
       "    </tr>\n",
       "  </tbody>\n",
       "</table>\n",
       "</div>"
      ],
      "text/plain": [
       "   ProductSubcategoryID  ProductCategoryID             Name  \\\n",
       "0                     1                  1   Mountain Bikes   \n",
       "1                     2                  1       Road Bikes   \n",
       "2                     3                  1    Touring Bikes   \n",
       "3                     4                  2       Handlebars   \n",
       "4                     5                  2  Bottom Brackets   \n",
       "\n",
       "                                rowguid             ModifiedDate  \n",
       "0  2d364ade-264a-433c-b092-4fcbf3804e01  2008-04-30 00:00:00.000  \n",
       "1  000310c0-bcc8-42c4-b0c3-45ae611af06b  2008-04-30 00:00:00.000  \n",
       "2  02c5061d-ecdc-4274-b5f1-e91d76bc3f37  2008-04-30 00:00:00.000  \n",
       "3  3ef2c725-7135-4c85-9ae6-ae9a3bdd9283  2008-04-30 00:00:00.000  \n",
       "4  a9e54089-8a1e-4cf5-8646-e3801f685934  2008-04-30 00:00:00.000  "
      ]
     },
     "execution_count": 572,
     "metadata": {},
     "output_type": "execute_result"
    }
   ],
   "source": [
    "ProductSubcategory.head()"
   ]
  },
  {
   "cell_type": "code",
   "execution_count": 573,
   "metadata": {},
   "outputs": [],
   "source": [
    "ProductSubcategory['ProductCategoryName'] = ProductSubcategory['ProductCategoryID'].map(ProductCategory.set_index('ProductCategoryID')['Name'])"
   ]
  },
  {
   "cell_type": "markdown",
   "metadata": {},
   "source": [
    "Remove unwanted columns"
   ]
  },
  {
   "cell_type": "code",
   "execution_count": 574,
   "metadata": {},
   "outputs": [],
   "source": [
    "selected_columns = ['ProductSubcategoryID', 'Name', 'ProductCategoryName']\n",
    "ProductSubcategory = ProductSubcategory.loc[:, selected_columns]\n",
    "ProductSubcategory = ProductSubcategory.rename(columns={'Name': 'ProductSubcategoryName'})"
   ]
  },
  {
   "cell_type": "code",
   "execution_count": 575,
   "metadata": {},
   "outputs": [],
   "source": [
    "ProductSubcategory.to_csv(os.path.join(output_folder_path,'ProductSubcategoryDim.csv'),index=False)"
   ]
  },
  {
   "cell_type": "markdown",
   "metadata": {},
   "source": [
    "**5.SalesOrderHeader**"
   ]
  },
  {
   "cell_type": "code",
   "execution_count": 576,
   "metadata": {},
   "outputs": [
    {
     "name": "stdout",
     "output_type": "stream",
     "text": [
      "<class 'pandas.core.frame.DataFrame'>\n",
      "RangeIndex: 31465 entries, 0 to 31464\n",
      "Data columns (total 26 columns):\n",
      " #   Column                  Non-Null Count  Dtype  \n",
      "---  ------                  --------------  -----  \n",
      " 0   SalesOrderID            31465 non-null  int64  \n",
      " 1   RevisionNumber          31465 non-null  int64  \n",
      " 2   OrderDate               31465 non-null  object \n",
      " 3   DueDate                 31465 non-null  object \n",
      " 4   ShipDate                31465 non-null  object \n",
      " 5   Status                  31465 non-null  int64  \n",
      " 6   OnlineOrderFlag         31465 non-null  int64  \n",
      " 7   SalesOrderNumber        31465 non-null  object \n",
      " 8   PurchaseOrderNumber     3806 non-null   object \n",
      " 9   AccountNumber           31465 non-null  object \n",
      " 10  CustomerID              31465 non-null  int64  \n",
      " 11  SalesPersonID           3806 non-null   float64\n",
      " 12  TerritoryID             31465 non-null  int64  \n",
      " 13  BillToAddressID         31465 non-null  int64  \n",
      " 14  ShipToAddressID         31465 non-null  int64  \n",
      " 15  ShipMethodID            31465 non-null  int64  \n",
      " 16  CreditCardID            30334 non-null  float64\n",
      " 17  CreditCardApprovalCode  30334 non-null  object \n",
      " 18  CurrencyRateID          13976 non-null  float64\n",
      " 19  SubTotal                31465 non-null  object \n",
      " 20  TaxAmt                  31465 non-null  object \n",
      " 21  Freight                 31465 non-null  object \n",
      " 22  TotalDue                31465 non-null  object \n",
      " 23  Comment                 0 non-null      float64\n",
      " 24  rowguid                 31465 non-null  object \n",
      " 25  ModifiedDate            31465 non-null  object \n",
      "dtypes: float64(4), int64(9), object(13)\n",
      "memory usage: 6.2+ MB\n"
     ]
    }
   ],
   "source": [
    "SalesOrderHeader.info()"
   ]
  },
  {
   "cell_type": "markdown",
   "metadata": {},
   "source": [
    "Remove unwanted columns"
   ]
  },
  {
   "cell_type": "code",
   "execution_count": 577,
   "metadata": {},
   "outputs": [],
   "source": [
    "selected_columns = ['SalesOrderID', 'OrderDate', 'DueDate','ShipDate','CustomerID','ShipToAddressID','SubTotal','TaxAmt','Freight','OnlineOrderFlag']\n",
    "SalesOrderHeader = SalesOrderHeader.loc[:, selected_columns]"
   ]
  },
  {
   "cell_type": "code",
   "execution_count": 578,
   "metadata": {},
   "outputs": [],
   "source": [
    "SalesOrderHeader['TaxAmt'] = SalesOrderHeader['TaxAmt'].astype('str').str.replace(',', '.').astype(float)\n",
    "SalesOrderHeader['Freight'] = SalesOrderHeader['Freight'].astype('str').str.replace(',', '.').astype(float)\n"
   ]
  },
  {
   "cell_type": "markdown",
   "metadata": {},
   "source": [
    "Check null values and duplicated"
   ]
  },
  {
   "cell_type": "code",
   "execution_count": 579,
   "metadata": {},
   "outputs": [
    {
     "data": {
      "text/plain": [
       "SalesOrderID       0\n",
       "OrderDate          0\n",
       "DueDate            0\n",
       "ShipDate           0\n",
       "CustomerID         0\n",
       "ShipToAddressID    0\n",
       "SubTotal           0\n",
       "TaxAmt             0\n",
       "Freight            0\n",
       "OnlineOrderFlag    0\n",
       "dtype: int64"
      ]
     },
     "execution_count": 579,
     "metadata": {},
     "output_type": "execute_result"
    }
   ],
   "source": [
    "SalesOrderHeader.isnull().sum()"
   ]
  },
  {
   "cell_type": "code",
   "execution_count": 580,
   "metadata": {},
   "outputs": [
    {
     "name": "stdout",
     "output_type": "stream",
     "text": [
      "0\n"
     ]
    }
   ],
   "source": [
    "print(SalesOrderHeader.duplicated().sum())"
   ]
  },
  {
   "cell_type": "code",
   "execution_count": 581,
   "metadata": {},
   "outputs": [
    {
     "data": {
      "text/html": [
       "<div>\n",
       "<style scoped>\n",
       "    .dataframe tbody tr th:only-of-type {\n",
       "        vertical-align: middle;\n",
       "    }\n",
       "\n",
       "    .dataframe tbody tr th {\n",
       "        vertical-align: top;\n",
       "    }\n",
       "\n",
       "    .dataframe thead th {\n",
       "        text-align: right;\n",
       "    }\n",
       "</style>\n",
       "<table border=\"1\" class=\"dataframe\">\n",
       "  <thead>\n",
       "    <tr style=\"text-align: right;\">\n",
       "      <th></th>\n",
       "      <th>SalesOrderID</th>\n",
       "      <th>OrderDate</th>\n",
       "      <th>DueDate</th>\n",
       "      <th>ShipDate</th>\n",
       "      <th>CustomerID</th>\n",
       "      <th>ShipToAddressID</th>\n",
       "      <th>SubTotal</th>\n",
       "      <th>TaxAmt</th>\n",
       "      <th>Freight</th>\n",
       "      <th>OnlineOrderFlag</th>\n",
       "    </tr>\n",
       "  </thead>\n",
       "  <tbody>\n",
       "    <tr>\n",
       "      <th>21</th>\n",
       "      <td>43680</td>\n",
       "      <td>2012-05-31 00:00:00.000</td>\n",
       "      <td>2011-06-12 00:00:00.000</td>\n",
       "      <td>2011-06-07 00:00:00.000</td>\n",
       "      <td>29489</td>\n",
       "      <td>1069</td>\n",
       "      <td>0,00</td>\n",
       "      <td>1093.6394</td>\n",
       "      <td>341.7623</td>\n",
       "      <td>0</td>\n",
       "    </tr>\n",
       "    <tr>\n",
       "      <th>22</th>\n",
       "      <td>43681</td>\n",
       "      <td>2012-05-31 00:00:00.000</td>\n",
       "      <td>2011-06-12 00:00:00.000</td>\n",
       "      <td>2011-06-07 00:00:00.000</td>\n",
       "      <td>29661</td>\n",
       "      <td>955</td>\n",
       "      <td>0,00</td>\n",
       "      <td>1323.0668</td>\n",
       "      <td>413.4584</td>\n",
       "      <td>0</td>\n",
       "    </tr>\n",
       "  </tbody>\n",
       "</table>\n",
       "</div>"
      ],
      "text/plain": [
       "    SalesOrderID                OrderDate                  DueDate  \\\n",
       "21         43680  2012-05-31 00:00:00.000  2011-06-12 00:00:00.000   \n",
       "22         43681  2012-05-31 00:00:00.000  2011-06-12 00:00:00.000   \n",
       "\n",
       "                   ShipDate  CustomerID  ShipToAddressID SubTotal     TaxAmt  \\\n",
       "21  2011-06-07 00:00:00.000       29489             1069     0,00  1093.6394   \n",
       "22  2011-06-07 00:00:00.000       29661              955     0,00  1323.0668   \n",
       "\n",
       "     Freight  OnlineOrderFlag  \n",
       "21  341.7623                0  \n",
       "22  413.4584                0  "
      ]
     },
     "execution_count": 581,
     "metadata": {},
     "output_type": "execute_result"
    }
   ],
   "source": [
    "SalesOrderHeader[(SalesOrderHeader['OrderDate'] >= SalesOrderHeader['DueDate']) | (SalesOrderHeader['OrderDate'] >= SalesOrderHeader['ShipDate'])]\n"
   ]
  },
  {
   "cell_type": "code",
   "execution_count": 582,
   "metadata": {},
   "outputs": [
    {
     "data": {
      "text/html": [
       "<div>\n",
       "<style scoped>\n",
       "    .dataframe tbody tr th:only-of-type {\n",
       "        vertical-align: middle;\n",
       "    }\n",
       "\n",
       "    .dataframe tbody tr th {\n",
       "        vertical-align: top;\n",
       "    }\n",
       "\n",
       "    .dataframe thead th {\n",
       "        text-align: right;\n",
       "    }\n",
       "</style>\n",
       "<table border=\"1\" class=\"dataframe\">\n",
       "  <thead>\n",
       "    <tr style=\"text-align: right;\">\n",
       "      <th></th>\n",
       "      <th>SalesOrderID</th>\n",
       "      <th>OrderDate</th>\n",
       "      <th>DueDate</th>\n",
       "      <th>ShipDate</th>\n",
       "      <th>CustomerID</th>\n",
       "      <th>ShipToAddressID</th>\n",
       "      <th>SubTotal</th>\n",
       "      <th>TaxAmt</th>\n",
       "      <th>Freight</th>\n",
       "      <th>OnlineOrderFlag</th>\n",
       "    </tr>\n",
       "  </thead>\n",
       "  <tbody>\n",
       "    <tr>\n",
       "      <th>21</th>\n",
       "      <td>43680</td>\n",
       "      <td>2012-05-31 00:00:00.000</td>\n",
       "      <td>2011-06-12 00:00:00.000</td>\n",
       "      <td>2011-06-07 00:00:00.000</td>\n",
       "      <td>29489</td>\n",
       "      <td>1069</td>\n",
       "      <td>0,00</td>\n",
       "      <td>1093.6394</td>\n",
       "      <td>341.7623</td>\n",
       "      <td>0</td>\n",
       "    </tr>\n",
       "    <tr>\n",
       "      <th>22</th>\n",
       "      <td>43681</td>\n",
       "      <td>2012-05-31 00:00:00.000</td>\n",
       "      <td>2011-06-12 00:00:00.000</td>\n",
       "      <td>2011-06-07 00:00:00.000</td>\n",
       "      <td>29661</td>\n",
       "      <td>955</td>\n",
       "      <td>0,00</td>\n",
       "      <td>1323.0668</td>\n",
       "      <td>413.4584</td>\n",
       "      <td>0</td>\n",
       "    </tr>\n",
       "  </tbody>\n",
       "</table>\n",
       "</div>"
      ],
      "text/plain": [
       "    SalesOrderID                OrderDate                  DueDate  \\\n",
       "21         43680  2012-05-31 00:00:00.000  2011-06-12 00:00:00.000   \n",
       "22         43681  2012-05-31 00:00:00.000  2011-06-12 00:00:00.000   \n",
       "\n",
       "                   ShipDate  CustomerID  ShipToAddressID SubTotal     TaxAmt  \\\n",
       "21  2011-06-07 00:00:00.000       29489             1069     0,00  1093.6394   \n",
       "22  2011-06-07 00:00:00.000       29661              955     0,00  1323.0668   \n",
       "\n",
       "     Freight  OnlineOrderFlag  \n",
       "21  341.7623                0  \n",
       "22  413.4584                0  "
      ]
     },
     "execution_count": 582,
     "metadata": {},
     "output_type": "execute_result"
    }
   ],
   "source": [
    "SalesOrderHeader[(SalesOrderHeader['OrderDate'] >= SalesOrderHeader['DueDate']) | (SalesOrderHeader['OrderDate'] >= SalesOrderHeader['ShipDate'])]\n"
   ]
  },
  {
   "cell_type": "code",
   "execution_count": 583,
   "metadata": {},
   "outputs": [],
   "source": [
    "SalesOrderHeader['OrderDate'] = pd.to_datetime(SalesOrderHeader['OrderDate'])\n",
    "SalesOrderHeader['DueDate'] = pd.to_datetime(SalesOrderHeader['DueDate'])\n",
    "SalesOrderHeader['ShipDate'] = pd.to_datetime(SalesOrderHeader['ShipDate'])"
   ]
  },
  {
   "cell_type": "markdown",
   "metadata": {},
   "source": [
    "Examine the difference between OrderDate and DueDate"
   ]
  },
  {
   "cell_type": "code",
   "execution_count": 584,
   "metadata": {},
   "outputs": [
    {
     "data": {
      "text/plain": [
       "12 days      31454\n",
       "13 days          9\n",
       "-354 days        2\n",
       "Name: count, dtype: int64"
      ]
     },
     "execution_count": 584,
     "metadata": {},
     "output_type": "execute_result"
    }
   ],
   "source": [
    "(SalesOrderHeader['DueDate'] - SalesOrderHeader['OrderDate']).value_counts()\n"
   ]
  },
  {
   "cell_type": "code",
   "execution_count": 585,
   "metadata": {},
   "outputs": [
    {
     "data": {
      "text/plain": [
       "7 days       31454\n",
       "8 days           9\n",
       "-359 days        2\n",
       "Name: count, dtype: int64"
      ]
     },
     "execution_count": 585,
     "metadata": {},
     "output_type": "execute_result"
    }
   ],
   "source": [
    "(SalesOrderHeader['ShipDate'] - SalesOrderHeader['OrderDate']).value_counts()"
   ]
  },
  {
   "cell_type": "markdown",
   "metadata": {},
   "source": [
    "2 rows have negative time interval, majority are 12 days and some are 13 days from DueDate, while 7 and 8 days from ShipDate. Therefore, we will subtract 12 days from DueDate or 7 days from ShipDate to get the OrderDate of negative intervals respectively"
   ]
  },
  {
   "cell_type": "code",
   "execution_count": 586,
   "metadata": {},
   "outputs": [],
   "source": [
    "SalesOrderHeader.loc[(SalesOrderHeader['OrderDate'] >= SalesOrderHeader['DueDate']) | (SalesOrderHeader['OrderDate'] >= SalesOrderHeader['ShipDate']), 'OrderDate']=SalesOrderHeader[(SalesOrderHeader['OrderDate'] >= SalesOrderHeader['DueDate']) | (SalesOrderHeader['OrderDate'] >= SalesOrderHeader['ShipDate'])]['ShipDate'] - pd.Timedelta(days=7)\n"
   ]
  },
  {
   "cell_type": "markdown",
   "metadata": {},
   "source": [
    "Create Date dimension"
   ]
  },
  {
   "cell_type": "markdown",
   "metadata": {},
   "source": [
    "    Extract unique date values"
   ]
  },
  {
   "cell_type": "code",
   "execution_count": 587,
   "metadata": {},
   "outputs": [],
   "source": [
    "all_dates = pd.concat([\n",
    "    SalesOrderHeader['OrderDate'],\n",
    "    SalesOrderHeader['DueDate'],\n",
    "    SalesOrderHeader['ShipDate']\n",
    "]).sort_values().reset_index(drop=True)\n",
    "date_records = pd.DataFrame({\n",
    "    'DateID': all_dates.dt.strftime('%Y%m%d').astype('int64'),  # Generating sequential DateID starting from 1\n",
    "    'FullDate': all_dates.dt.strftime('%Y-%m-%d'),  # Converting datetime to string\n",
    "    'IsWeekDay': all_dates.dt.weekday < 5,  # Weekdays are less than 5\n",
    "    'DayOfWeek': all_dates.dt.day_name() \n",
    "})\n",
    "\n",
    "date_records = date_records.drop_duplicates()\n",
    "date_records.to_csv(os.path.join(output_folder_path,'DateDim.csv'),index=False) "
   ]
  },
  {
   "cell_type": "code",
   "execution_count": 588,
   "metadata": {},
   "outputs": [
    {
     "data": {
      "text/html": [
       "<div>\n",
       "<style scoped>\n",
       "    .dataframe tbody tr th:only-of-type {\n",
       "        vertical-align: middle;\n",
       "    }\n",
       "\n",
       "    .dataframe tbody tr th {\n",
       "        vertical-align: top;\n",
       "    }\n",
       "\n",
       "    .dataframe thead th {\n",
       "        text-align: right;\n",
       "    }\n",
       "</style>\n",
       "<table border=\"1\" class=\"dataframe\">\n",
       "  <thead>\n",
       "    <tr style=\"text-align: right;\">\n",
       "      <th></th>\n",
       "      <th>DateID</th>\n",
       "      <th>FullDate</th>\n",
       "      <th>IsWeekDay</th>\n",
       "      <th>DayOfWeek</th>\n",
       "    </tr>\n",
       "  </thead>\n",
       "  <tbody>\n",
       "    <tr>\n",
       "      <th>0</th>\n",
       "      <td>20110531</td>\n",
       "      <td>2011-05-31</td>\n",
       "      <td>True</td>\n",
       "      <td>Tuesday</td>\n",
       "    </tr>\n",
       "    <tr>\n",
       "      <th>43</th>\n",
       "      <td>20110601</td>\n",
       "      <td>2011-06-01</td>\n",
       "      <td>True</td>\n",
       "      <td>Wednesday</td>\n",
       "    </tr>\n",
       "    <tr>\n",
       "      <th>47</th>\n",
       "      <td>20110602</td>\n",
       "      <td>2011-06-02</td>\n",
       "      <td>True</td>\n",
       "      <td>Thursday</td>\n",
       "    </tr>\n",
       "    <tr>\n",
       "      <th>52</th>\n",
       "      <td>20110603</td>\n",
       "      <td>2011-06-03</td>\n",
       "      <td>True</td>\n",
       "      <td>Friday</td>\n",
       "    </tr>\n",
       "    <tr>\n",
       "      <th>54</th>\n",
       "      <td>20110604</td>\n",
       "      <td>2011-06-04</td>\n",
       "      <td>False</td>\n",
       "      <td>Saturday</td>\n",
       "    </tr>\n",
       "    <tr>\n",
       "      <th>...</th>\n",
       "      <td>...</td>\n",
       "      <td>...</td>\n",
       "      <td>...</td>\n",
       "      <td>...</td>\n",
       "    </tr>\n",
       "    <tr>\n",
       "      <th>94240</th>\n",
       "      <td>20140708</td>\n",
       "      <td>2014-07-08</td>\n",
       "      <td>True</td>\n",
       "      <td>Tuesday</td>\n",
       "    </tr>\n",
       "    <tr>\n",
       "      <th>94269</th>\n",
       "      <td>20140709</td>\n",
       "      <td>2014-07-09</td>\n",
       "      <td>True</td>\n",
       "      <td>Wednesday</td>\n",
       "    </tr>\n",
       "    <tr>\n",
       "      <th>94301</th>\n",
       "      <td>20140710</td>\n",
       "      <td>2014-07-10</td>\n",
       "      <td>True</td>\n",
       "      <td>Thursday</td>\n",
       "    </tr>\n",
       "    <tr>\n",
       "      <th>94332</th>\n",
       "      <td>20140711</td>\n",
       "      <td>2014-07-11</td>\n",
       "      <td>True</td>\n",
       "      <td>Friday</td>\n",
       "    </tr>\n",
       "    <tr>\n",
       "      <th>94355</th>\n",
       "      <td>20140712</td>\n",
       "      <td>2014-07-12</td>\n",
       "      <td>False</td>\n",
       "      <td>Saturday</td>\n",
       "    </tr>\n",
       "  </tbody>\n",
       "</table>\n",
       "<p>1139 rows × 4 columns</p>\n",
       "</div>"
      ],
      "text/plain": [
       "         DateID    FullDate  IsWeekDay  DayOfWeek\n",
       "0      20110531  2011-05-31       True    Tuesday\n",
       "43     20110601  2011-06-01       True  Wednesday\n",
       "47     20110602  2011-06-02       True   Thursday\n",
       "52     20110603  2011-06-03       True     Friday\n",
       "54     20110604  2011-06-04      False   Saturday\n",
       "...         ...         ...        ...        ...\n",
       "94240  20140708  2014-07-08       True    Tuesday\n",
       "94269  20140709  2014-07-09       True  Wednesday\n",
       "94301  20140710  2014-07-10       True   Thursday\n",
       "94332  20140711  2014-07-11       True     Friday\n",
       "94355  20140712  2014-07-12      False   Saturday\n",
       "\n",
       "[1139 rows x 4 columns]"
      ]
     },
     "execution_count": 588,
     "metadata": {},
     "output_type": "execute_result"
    }
   ],
   "source": [
    "date_records"
   ]
  },
  {
   "cell_type": "code",
   "execution_count": 589,
   "metadata": {},
   "outputs": [],
   "source": [
    "def date_to_id(date):\n",
    "    return date.strftime('%Y%m%d')"
   ]
  },
  {
   "cell_type": "code",
   "execution_count": 590,
   "metadata": {},
   "outputs": [],
   "source": [
    "for column in ['OrderDate','DueDate','ShipDate']:\n",
    "    SalesOrderHeader[column] = SalesOrderHeader[column].apply(date_to_id)\n",
    "    SalesOrderHeader[column] = SalesOrderHeader[column].astype('int64')\n",
    "    SalesOrderHeader.rename(columns={column: column+'ID'}, inplace=True)"
   ]
  },
  {
   "cell_type": "code",
   "execution_count": null,
   "metadata": {},
   "outputs": [],
   "source": []
  },
  {
   "cell_type": "code",
   "execution_count": 591,
   "metadata": {},
   "outputs": [
    {
     "name": "stdout",
     "output_type": "stream",
     "text": [
      "<class 'pandas.core.frame.DataFrame'>\n",
      "RangeIndex: 31465 entries, 0 to 31464\n",
      "Data columns (total 10 columns):\n",
      " #   Column           Non-Null Count  Dtype  \n",
      "---  ------           --------------  -----  \n",
      " 0   SalesOrderID     31465 non-null  int64  \n",
      " 1   OrderDateID      31465 non-null  int64  \n",
      " 2   DueDateID        31465 non-null  int64  \n",
      " 3   ShipDateID       31465 non-null  int64  \n",
      " 4   CustomerID       31465 non-null  int64  \n",
      " 5   ShipToAddressID  31465 non-null  int64  \n",
      " 6   SubTotal         31465 non-null  object \n",
      " 7   TaxAmt           31465 non-null  float64\n",
      " 8   Freight          31465 non-null  float64\n",
      " 9   OnlineOrderFlag  31465 non-null  int64  \n",
      "dtypes: float64(2), int64(7), object(1)\n",
      "memory usage: 2.4+ MB\n"
     ]
    }
   ],
   "source": [
    "SalesOrderHeader.info()"
   ]
  },
  {
   "cell_type": "markdown",
   "metadata": {},
   "source": [
    "**6.SalesOrderDetail**"
   ]
  },
  {
   "cell_type": "code",
   "execution_count": 592,
   "metadata": {},
   "outputs": [
    {
     "data": {
      "text/html": [
       "<div>\n",
       "<style scoped>\n",
       "    .dataframe tbody tr th:only-of-type {\n",
       "        vertical-align: middle;\n",
       "    }\n",
       "\n",
       "    .dataframe tbody tr th {\n",
       "        vertical-align: top;\n",
       "    }\n",
       "\n",
       "    .dataframe thead th {\n",
       "        text-align: right;\n",
       "    }\n",
       "</style>\n",
       "<table border=\"1\" class=\"dataframe\">\n",
       "  <thead>\n",
       "    <tr style=\"text-align: right;\">\n",
       "      <th></th>\n",
       "      <th>SalesOrderID</th>\n",
       "      <th>SalesOrderDetailID</th>\n",
       "      <th>CarrierTrackingNumber</th>\n",
       "      <th>OrderQty</th>\n",
       "      <th>ProductID</th>\n",
       "      <th>SpecialOfferID</th>\n",
       "      <th>UnitPrice</th>\n",
       "      <th>UnitPriceDiscount</th>\n",
       "      <th>LineTotal</th>\n",
       "      <th>rowguid</th>\n",
       "      <th>ModifiedDate</th>\n",
       "    </tr>\n",
       "  </thead>\n",
       "  <tbody>\n",
       "    <tr>\n",
       "      <th>0</th>\n",
       "      <td>43659</td>\n",
       "      <td>1</td>\n",
       "      <td>4911-403C-98</td>\n",
       "      <td>1.0</td>\n",
       "      <td>776</td>\n",
       "      <td>1</td>\n",
       "      <td>2024,994</td>\n",
       "      <td>0,00</td>\n",
       "      <td>2024.994</td>\n",
       "      <td>b207c96d-d9e6-402b-8470-2cc176c42283</td>\n",
       "      <td>2011-05-31 00:00:00.000</td>\n",
       "    </tr>\n",
       "    <tr>\n",
       "      <th>1</th>\n",
       "      <td>43659</td>\n",
       "      <td>2</td>\n",
       "      <td>4911-403C-98</td>\n",
       "      <td>3.0</td>\n",
       "      <td>777</td>\n",
       "      <td>1</td>\n",
       "      <td>2024,994</td>\n",
       "      <td>0,00</td>\n",
       "      <td>6074.982</td>\n",
       "      <td>7abb600d-1e77-41be-9fe5-b9142cfc08fa</td>\n",
       "      <td>2011-05-31 00:00:00.000</td>\n",
       "    </tr>\n",
       "    <tr>\n",
       "      <th>2</th>\n",
       "      <td>43659</td>\n",
       "      <td>3</td>\n",
       "      <td>4911-403C-98</td>\n",
       "      <td>1.0</td>\n",
       "      <td>778</td>\n",
       "      <td>1</td>\n",
       "      <td>2024,994</td>\n",
       "      <td>0,00</td>\n",
       "      <td>2024.994</td>\n",
       "      <td>475cf8c6-49f6-486e-b0ad-afc6a50cdd2f</td>\n",
       "      <td>2011-05-31 00:00:00.000</td>\n",
       "    </tr>\n",
       "    <tr>\n",
       "      <th>3</th>\n",
       "      <td>43659</td>\n",
       "      <td>4</td>\n",
       "      <td>4911-403C-98</td>\n",
       "      <td>1.0</td>\n",
       "      <td>771</td>\n",
       "      <td>1</td>\n",
       "      <td>2039,994</td>\n",
       "      <td>0,00</td>\n",
       "      <td>2039.994</td>\n",
       "      <td>04c4de91-5815-45d6-8670-f462719fbce3</td>\n",
       "      <td>2011-05-31 00:00:00.000</td>\n",
       "    </tr>\n",
       "    <tr>\n",
       "      <th>4</th>\n",
       "      <td>43659</td>\n",
       "      <td>5</td>\n",
       "      <td>4911-403C-98</td>\n",
       "      <td>1.0</td>\n",
       "      <td>772</td>\n",
       "      <td>1</td>\n",
       "      <td>2039,994</td>\n",
       "      <td>0,00</td>\n",
       "      <td>2039.994</td>\n",
       "      <td>5a74c7d2-e641-438e-a7ac-37bf23280301</td>\n",
       "      <td>2011-05-31 00:00:00.000</td>\n",
       "    </tr>\n",
       "    <tr>\n",
       "      <th>...</th>\n",
       "      <td>...</td>\n",
       "      <td>...</td>\n",
       "      <td>...</td>\n",
       "      <td>...</td>\n",
       "      <td>...</td>\n",
       "      <td>...</td>\n",
       "      <td>...</td>\n",
       "      <td>...</td>\n",
       "      <td>...</td>\n",
       "      <td>...</td>\n",
       "      <td>...</td>\n",
       "    </tr>\n",
       "    <tr>\n",
       "      <th>121312</th>\n",
       "      <td>75122</td>\n",
       "      <td>121313</td>\n",
       "      <td>NaN</td>\n",
       "      <td>1.0</td>\n",
       "      <td>878</td>\n",
       "      <td>1</td>\n",
       "      <td>21,98</td>\n",
       "      <td>0,00</td>\n",
       "      <td>21.980</td>\n",
       "      <td>8cad6675-18cc-4f47-8287-97b41a8ee47d</td>\n",
       "      <td>2014-06-30 00:00:00.000</td>\n",
       "    </tr>\n",
       "    <tr>\n",
       "      <th>121313</th>\n",
       "      <td>75122</td>\n",
       "      <td>121314</td>\n",
       "      <td>NaN</td>\n",
       "      <td>1.0</td>\n",
       "      <td>712</td>\n",
       "      <td>1</td>\n",
       "      <td>8,99</td>\n",
       "      <td>0,00</td>\n",
       "      <td>8.990</td>\n",
       "      <td>84f1c363-1c50-4442-be16-541c59b6e12c</td>\n",
       "      <td>2014-06-30 00:00:00.000</td>\n",
       "    </tr>\n",
       "    <tr>\n",
       "      <th>121314</th>\n",
       "      <td>75123</td>\n",
       "      <td>121315</td>\n",
       "      <td>NaN</td>\n",
       "      <td>1.0</td>\n",
       "      <td>878</td>\n",
       "      <td>1</td>\n",
       "      <td>21,98</td>\n",
       "      <td>0,00</td>\n",
       "      <td>21.980</td>\n",
       "      <td>c18b6476-429f-4bb1-828e-2be5f82a0a51</td>\n",
       "      <td>2014-06-30 00:00:00.000</td>\n",
       "    </tr>\n",
       "    <tr>\n",
       "      <th>121315</th>\n",
       "      <td>75123</td>\n",
       "      <td>121316</td>\n",
       "      <td>NaN</td>\n",
       "      <td>1.0</td>\n",
       "      <td>879</td>\n",
       "      <td>1</td>\n",
       "      <td>159,00</td>\n",
       "      <td>0,00</td>\n",
       "      <td>159.000</td>\n",
       "      <td>75a89c6a-c60a-47ea-8a52-b52a9c435b64</td>\n",
       "      <td>2014-06-30 00:00:00.000</td>\n",
       "    </tr>\n",
       "    <tr>\n",
       "      <th>121316</th>\n",
       "      <td>75123</td>\n",
       "      <td>121317</td>\n",
       "      <td>NaN</td>\n",
       "      <td>1.0</td>\n",
       "      <td>712</td>\n",
       "      <td>1</td>\n",
       "      <td>8,99</td>\n",
       "      <td>0,00</td>\n",
       "      <td>8.990</td>\n",
       "      <td>73646d26-0461-450d-8019-2c6c858619ca</td>\n",
       "      <td>2014-06-30 00:00:00.000</td>\n",
       "    </tr>\n",
       "  </tbody>\n",
       "</table>\n",
       "<p>121317 rows × 11 columns</p>\n",
       "</div>"
      ],
      "text/plain": [
       "        SalesOrderID  SalesOrderDetailID CarrierTrackingNumber  OrderQty  \\\n",
       "0              43659                   1          4911-403C-98       1.0   \n",
       "1              43659                   2          4911-403C-98       3.0   \n",
       "2              43659                   3          4911-403C-98       1.0   \n",
       "3              43659                   4          4911-403C-98       1.0   \n",
       "4              43659                   5          4911-403C-98       1.0   \n",
       "...              ...                 ...                   ...       ...   \n",
       "121312         75122              121313                   NaN       1.0   \n",
       "121313         75122              121314                   NaN       1.0   \n",
       "121314         75123              121315                   NaN       1.0   \n",
       "121315         75123              121316                   NaN       1.0   \n",
       "121316         75123              121317                   NaN       1.0   \n",
       "\n",
       "        ProductID  SpecialOfferID UnitPrice UnitPriceDiscount  LineTotal  \\\n",
       "0             776               1  2024,994              0,00   2024.994   \n",
       "1             777               1  2024,994              0,00   6074.982   \n",
       "2             778               1  2024,994              0,00   2024.994   \n",
       "3             771               1  2039,994              0,00   2039.994   \n",
       "4             772               1  2039,994              0,00   2039.994   \n",
       "...           ...             ...       ...               ...        ...   \n",
       "121312        878               1     21,98              0,00     21.980   \n",
       "121313        712               1      8,99              0,00      8.990   \n",
       "121314        878               1     21,98              0,00     21.980   \n",
       "121315        879               1    159,00              0,00    159.000   \n",
       "121316        712               1      8,99              0,00      8.990   \n",
       "\n",
       "                                     rowguid             ModifiedDate  \n",
       "0       b207c96d-d9e6-402b-8470-2cc176c42283  2011-05-31 00:00:00.000  \n",
       "1       7abb600d-1e77-41be-9fe5-b9142cfc08fa  2011-05-31 00:00:00.000  \n",
       "2       475cf8c6-49f6-486e-b0ad-afc6a50cdd2f  2011-05-31 00:00:00.000  \n",
       "3       04c4de91-5815-45d6-8670-f462719fbce3  2011-05-31 00:00:00.000  \n",
       "4       5a74c7d2-e641-438e-a7ac-37bf23280301  2011-05-31 00:00:00.000  \n",
       "...                                      ...                      ...  \n",
       "121312  8cad6675-18cc-4f47-8287-97b41a8ee47d  2014-06-30 00:00:00.000  \n",
       "121313  84f1c363-1c50-4442-be16-541c59b6e12c  2014-06-30 00:00:00.000  \n",
       "121314  c18b6476-429f-4bb1-828e-2be5f82a0a51  2014-06-30 00:00:00.000  \n",
       "121315  75a89c6a-c60a-47ea-8a52-b52a9c435b64  2014-06-30 00:00:00.000  \n",
       "121316  73646d26-0461-450d-8019-2c6c858619ca  2014-06-30 00:00:00.000  \n",
       "\n",
       "[121317 rows x 11 columns]"
      ]
     },
     "execution_count": 592,
     "metadata": {},
     "output_type": "execute_result"
    }
   ],
   "source": [
    "SalesOrderDetail"
   ]
  },
  {
   "cell_type": "code",
   "execution_count": 593,
   "metadata": {},
   "outputs": [],
   "source": [
    "selected_columns = ['SalesOrderID', 'SalesOrderDetailID','OrderQty','ProductID','UnitPrice','UnitPriceDiscount','LineTotal']\n",
    "SalesOrderDetail = SalesOrderDetail.loc[:, selected_columns]"
   ]
  },
  {
   "cell_type": "code",
   "execution_count": null,
   "metadata": {},
   "outputs": [],
   "source": []
  },
  {
   "cell_type": "code",
   "execution_count": 594,
   "metadata": {},
   "outputs": [],
   "source": [
    "SalesOrderDetail['UnitPrice'] = SalesOrderDetail['UnitPrice'].astype('str').str.replace(',', '.').astype(float)\n",
    "SalesOrderDetail['LineTotal'] = SalesOrderDetail['UnitPrice'].astype('str').str.replace(',', '.').astype(float)\n",
    "SalesOrderDetail['UnitPriceDiscount'] = SalesOrderDetail['UnitPriceDiscount'].astype('str').str.replace(',', '.').astype(float)"
   ]
  },
  {
   "cell_type": "code",
   "execution_count": 595,
   "metadata": {},
   "outputs": [],
   "source": [
    "def get_most_frequent_price(product_id):\n",
    "    return SalesOrderDetail[SalesOrderDetail['ProductID'] == product_id]['UnitPrice'].mode()"
   ]
  },
  {
   "cell_type": "code",
   "execution_count": 596,
   "metadata": {},
   "outputs": [],
   "source": [
    "SalesOrderDetail.loc[(SalesOrderDetail['UnitPrice'] <= 0)| (SalesOrderDetail['UnitPrice'].isna())  ,'UnitPrice'] = SalesOrderDetail.loc[(SalesOrderDetail['UnitPrice'] <= 0)| (SalesOrderDetail['UnitPrice'].isna())]['ProductID'].apply(get_most_frequent_price)"
   ]
  },
  {
   "cell_type": "code",
   "execution_count": 597,
   "metadata": {},
   "outputs": [],
   "source": [
    "SalesOrderDetail.loc[(SalesOrderDetail['OrderQty'] <= 0),'OrderQty'] = - SalesOrderDetail.loc[(SalesOrderDetail['OrderQty'] <= 0)]['OrderQty']"
   ]
  },
  {
   "cell_type": "code",
   "execution_count": 598,
   "metadata": {},
   "outputs": [
    {
     "data": {
      "text/html": [
       "<div>\n",
       "<style scoped>\n",
       "    .dataframe tbody tr th:only-of-type {\n",
       "        vertical-align: middle;\n",
       "    }\n",
       "\n",
       "    .dataframe tbody tr th {\n",
       "        vertical-align: top;\n",
       "    }\n",
       "\n",
       "    .dataframe thead th {\n",
       "        text-align: right;\n",
       "    }\n",
       "</style>\n",
       "<table border=\"1\" class=\"dataframe\">\n",
       "  <thead>\n",
       "    <tr style=\"text-align: right;\">\n",
       "      <th></th>\n",
       "      <th>SalesOrderID</th>\n",
       "      <th>SalesOrderDetailID</th>\n",
       "      <th>OrderQty</th>\n",
       "      <th>ProductID</th>\n",
       "      <th>UnitPrice</th>\n",
       "      <th>UnitPriceDiscount</th>\n",
       "      <th>LineTotal</th>\n",
       "    </tr>\n",
       "  </thead>\n",
       "  <tbody>\n",
       "  </tbody>\n",
       "</table>\n",
       "</div>"
      ],
      "text/plain": [
       "Empty DataFrame\n",
       "Columns: [SalesOrderID, SalesOrderDetailID, OrderQty, ProductID, UnitPrice, UnitPriceDiscount, LineTotal]\n",
       "Index: []"
      ]
     },
     "execution_count": 598,
     "metadata": {},
     "output_type": "execute_result"
    }
   ],
   "source": [
    "SalesOrderDetail[SalesOrderDetail['ProductID']==715 &SalesOrderDetail['UnitPrice'].isna()]"
   ]
  },
  {
   "cell_type": "code",
   "execution_count": 599,
   "metadata": {},
   "outputs": [],
   "source": [
    "SalesOrderDetail = SalesOrderDetail.drop_duplicates().dropna()"
   ]
  },
  {
   "cell_type": "code",
   "execution_count": 600,
   "metadata": {},
   "outputs": [],
   "source": [
    "SalesOrderDetail['LineTotal']  = (SalesOrderDetail['OrderQty'] * SalesOrderDetail[\"UnitPrice\"]*(1-SalesOrderDetail['UnitPriceDiscount']))"
   ]
  },
  {
   "cell_type": "code",
   "execution_count": 601,
   "metadata": {},
   "outputs": [
    {
     "name": "stdout",
     "output_type": "stream",
     "text": [
      "<class 'pandas.core.frame.DataFrame'>\n",
      "Index: 121268 entries, 0 to 121316\n",
      "Data columns (total 7 columns):\n",
      " #   Column              Non-Null Count   Dtype  \n",
      "---  ------              --------------   -----  \n",
      " 0   SalesOrderID        121268 non-null  int64  \n",
      " 1   SalesOrderDetailID  121268 non-null  int64  \n",
      " 2   OrderQty            121268 non-null  float64\n",
      " 3   ProductID           121268 non-null  int64  \n",
      " 4   UnitPrice           121268 non-null  float64\n",
      " 5   UnitPriceDiscount   121268 non-null  float64\n",
      " 6   LineTotal           121268 non-null  float64\n",
      "dtypes: float64(4), int64(3)\n",
      "memory usage: 7.4 MB\n"
     ]
    }
   ],
   "source": [
    "SalesOrderDetail.info()"
   ]
  },
  {
   "cell_type": "code",
   "execution_count": 602,
   "metadata": {},
   "outputs": [],
   "source": [
    "SalesOrderDetail.rename(columns={'UnitPriceDiscount': 'PercentDiscount'}, inplace=True)"
   ]
  },
  {
   "cell_type": "code",
   "execution_count": 603,
   "metadata": {},
   "outputs": [],
   "source": [
    "SalesOrderDetail.rename(columns={'SalesOrderDetailID': 'SaleItemFactID'}, inplace=True)"
   ]
  },
  {
   "cell_type": "code",
   "execution_count": 604,
   "metadata": {},
   "outputs": [],
   "source": [
    "SalesOrderDetail.to_csv(os.path.join(output_folder_path,'SaleItemFact.csv'),index=False)"
   ]
  },
  {
   "cell_type": "code",
   "execution_count": 605,
   "metadata": {},
   "outputs": [],
   "source": [
    "SalesOrderHeader = pd.merge(SalesOrderHeader, SalesOrderDetail, on='SalesOrderID', how='inner')"
   ]
  },
  {
   "cell_type": "code",
   "execution_count": 606,
   "metadata": {},
   "outputs": [],
   "source": [
    "SalesOrderHeader = SalesOrderHeader.drop_duplicates(subset='SalesOrderID')"
   ]
  },
  {
   "cell_type": "code",
   "execution_count": 607,
   "metadata": {},
   "outputs": [],
   "source": [
    "SalesOrderHeader['Subtotal'] = SalesOrderHeader['LineTotal']"
   ]
  },
  {
   "cell_type": "code",
   "execution_count": 608,
   "metadata": {},
   "outputs": [],
   "source": [
    "selected_columns = ['SalesOrderID', 'OrderDateID', 'DueDateID','ShipDateID','CustomerID','ShipToAddressID','Subtotal','TaxAmt','Freight','OnlineOrderFlag']\n",
    "SalesOrderHeader = SalesOrderHeader.loc[:, selected_columns]"
   ]
  },
  {
   "cell_type": "code",
   "execution_count": 609,
   "metadata": {},
   "outputs": [],
   "source": [
    "SalesOrderHeader.to_csv(os.path.join(output_folder_path,'OrderDim.csv'),index=False)"
   ]
  },
  {
   "cell_type": "code",
   "execution_count": null,
   "metadata": {},
   "outputs": [],
   "source": []
  },
  {
   "cell_type": "code",
   "execution_count": null,
   "metadata": {},
   "outputs": [],
   "source": []
  }
 ],
 "metadata": {
  "kernelspec": {
   "display_name": "tfodj",
   "language": "python",
   "name": "tfodj"
  },
  "language_info": {
   "codemirror_mode": {
    "name": "ipython",
    "version": 3
   },
   "file_extension": ".py",
   "mimetype": "text/x-python",
   "name": "python",
   "nbconvert_exporter": "python",
   "pygments_lexer": "ipython3",
   "version": "3.9.13"
  }
 },
 "nbformat": 4,
 "nbformat_minor": 2
}
